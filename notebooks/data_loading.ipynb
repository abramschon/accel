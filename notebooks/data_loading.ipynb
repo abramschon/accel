{
 "cells": [
  {
   "cell_type": "code",
   "execution_count": 2,
   "id": "26aba2de",
   "metadata": {},
   "outputs": [],
   "source": [
    "import os\n",
    "from glob import glob\n",
    "import numpy as np\n",
    "import pandas as pd\n",
    "import matplotlib.pyplot as plt\n",
    "from imblearn.ensemble import BalancedRandomForestClassifier\n",
    "from sklearn import decomposition\n",
    "from sklearn import preprocessing\n",
    "from sklearn import manifold\n",
    "from sklearn import metrics\n",
    "from tqdm.auto import tqdm\n",
    "from joblib import Parallel, delayed\n",
    "\n",
    "# For reproducibility\n",
    "np.random.seed(42)"
   ]
  },
  {
   "cell_type": "code",
   "execution_count": 30,
   "id": "2116a8f1",
   "metadata": {},
   "outputs": [],
   "source": [
    "def load_data(datafile):\n",
    "    \"\"\" Utility function to load the data files with correct dtypes \"\"\"\n",
    "    data = pd.read_csv(\n",
    "        datafile\n",
    "    )\n",
    "    return data"
   ]
  },
  {
   "cell_type": "code",
   "execution_count": 31,
   "id": "8f2b7f7c",
   "metadata": {},
   "outputs": [
    {
     "name": "stdout",
     "output_type": "stream",
     "text": [
      "Content of /cdtshared/wearables/health_data_files/\n",
      "['death_cause.txt', 'base_cohort_wearables.csv', 'accelerometer.csv', 'death.txt', 'dataset-with-preprocessing-done.csv', 'hesin_all.csv']\n"
     ]
    }
   ],
   "source": [
    "# Path to dataset\n",
    "PATH = '/cdtshared/wearables/health_data_files/'\n",
    "\n",
    "# Let's see what's in it\n",
    "print(f'Content of {PATH}')\n",
    "print(os.listdir(PATH))\n",
    "\n",
    "# Let's load and inspect accelerometer data\n",
    "acc = load_data(PATH+'dataset-with-preprocessing-done.csv')"
   ]
  },
  {
   "cell_type": "code",
   "execution_count": 32,
   "id": "1729e2ca",
   "metadata": {},
   "outputs": [],
   "source": [
    "# Features from biobank\n",
    "features = load_data(PATH+'dataset-with-preprocessing-done.csv')"
   ]
  },
  {
   "cell_type": "code",
   "execution_count": 33,
   "id": "a3cd3717",
   "metadata": {},
   "outputs": [],
   "source": [
    "features_of_interest = ['age_entry_years', 'sex', 'smoking', 'BMI', 'inc_ihd']"
   ]
  },
  {
   "cell_type": "code",
   "execution_count": 34,
   "id": "c4407a85",
   "metadata": {},
   "outputs": [],
   "source": [
    "euclidean_norm = features['acc.overall.avg']\n",
    "X = features[features_of_interest]"
   ]
  },
  {
   "cell_type": "code",
   "execution_count": null,
   "id": "50d5e5ae",
   "metadata": {},
   "outputs": [],
   "source": []
  }
 ],
 "metadata": {
  "kernelspec": {
   "display_name": "Python 3 (ipykernel)",
   "language": "python",
   "name": "python3"
  },
  "language_info": {
   "codemirror_mode": {
    "name": "ipython",
    "version": 3
   },
   "file_extension": ".py",
   "mimetype": "text/x-python",
   "name": "python",
   "nbconvert_exporter": "python",
   "pygments_lexer": "ipython3",
   "version": "3.9.7"
  }
 },
 "nbformat": 4,
 "nbformat_minor": 5
}
