{
 "cells": [
  {
   "cell_type": "markdown",
   "id": "39158b55",
   "metadata": {},
   "source": [
    "# Data exploration \n",
    "We explore the pre-processed data and show how to use the `load_data` function. "
   ]
  },
  {
   "cell_type": "code",
   "execution_count": 1,
   "id": "26aba2de",
   "metadata": {},
   "outputs": [],
   "source": [
    "import os\n",
    "from glob import glob\n",
    "import numpy as np\n",
    "import pandas as pd\n",
    "import matplotlib.pyplot as plt\n",
    "\n",
    "# For reproducibility\n",
    "np.random.seed(42)"
   ]
  },
  {
   "cell_type": "code",
   "execution_count": 2,
   "id": "67c7c180",
   "metadata": {},
   "outputs": [],
   "source": [
    "from accel.read_data import load_data, load_xy"
   ]
  },
  {
   "cell_type": "code",
   "execution_count": 3,
   "id": "f8114424",
   "metadata": {},
   "outputs": [],
   "source": [
    "X, y = load_xy(\"../data/health_data/dataset-with-preprocessing-done.csv\",\n",
    "               ['age_entry_years', 'sex', 'smoking', 'BMI', 'inc_ihd'], # features we are interested in\n",
    "               'acc.overall.avg' # outcome\n",
    "               )"
   ]
  }
 ],
 "metadata": {
  "kernelspec": {
   "display_name": "Python 3 (ipykernel)",
   "language": "python",
   "name": "python3"
  },
  "language_info": {
   "codemirror_mode": {
    "name": "ipython",
    "version": 3
   },
   "file_extension": ".py",
   "mimetype": "text/x-python",
   "name": "python",
   "nbconvert_exporter": "python",
   "pygments_lexer": "ipython3",
   "version": "3.9.7"
  }
 },
 "nbformat": 4,
 "nbformat_minor": 5
}
