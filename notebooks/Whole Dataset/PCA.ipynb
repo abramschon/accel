{
 "cells": [
  {
   "cell_type": "code",
   "execution_count": 13,
   "id": "ffeb642d",
   "metadata": {},
   "outputs": [],
   "source": [
    "import os\n",
    "from glob import glob\n",
    "import numpy as np\n",
    "import pandas as pd\n",
    "from sklearn.decomposition import PCA\n",
    "from sklearn.preprocessing import StandardScaler\n",
    "from sklearn.model_selection import train_test_split\n",
    "import pickle\n",
    "import matplotlib.pyplot as plt\n",
    "%matplotlib inline\n",
    "\n",
    "\n",
    "import warnings\n",
    "warnings.filterwarnings('ignore')\n",
    "\n",
    "# For reproducibility\n",
    "np.random.seed(42)"
   ]
  },
  {
   "cell_type": "code",
   "execution_count": 14,
   "id": "d0d48cae",
   "metadata": {},
   "outputs": [],
   "source": [
    "# Path to dataset\n",
    "PATH = '/cdtshared/wearables/students/group5/'\n",
    "\n",
    "# Features from biobank\n",
    "features = pd.read_pickle(PATH+\"imputed_dataset.pkl\")"
   ]
  },
  {
   "cell_type": "code",
   "execution_count": 15,
   "id": "430bbd0b",
   "metadata": {},
   "outputs": [],
   "source": [
    "features_of_interest = list(set(list(features.columns)) - set(['acc.overall.avg']))\n",
    "\n",
    "Y = features['acc.overall.avg']\n",
    "X = features[features_of_interest]"
   ]
  },
  {
   "cell_type": "code",
   "execution_count": 16,
   "id": "55c218e9",
   "metadata": {},
   "outputs": [],
   "source": [
    "# identify the categorical features\n",
    "categorical_features = []\n",
    "for columns in list(X.columns):\n",
    "    if features[columns].dtype=='object':\n",
    "        categorical_features.append(columns)\n",
    "numeric_features = list(set(features_of_interest) - set(categorical_features))"
   ]
  },
  {
   "cell_type": "code",
   "execution_count": 17,
   "id": "4107d333",
   "metadata": {},
   "outputs": [],
   "source": [
    "# Encode the categorical variables\n",
    "X_enc = pd.get_dummies(X, columns=categorical_features)\n",
    "Y = Y.to_numpy()"
   ]
  },
  {
   "cell_type": "code",
   "execution_count": 18,
   "id": "e2cb2116",
   "metadata": {},
   "outputs": [],
   "source": [
    "# Split into training and testing, 70:20:10\n",
    "X_train, X_test, y_train, y_test = train_test_split(X_enc, Y, test_size=0.3)"
   ]
  },
  {
   "cell_type": "code",
   "execution_count": 19,
   "id": "016916d1",
   "metadata": {},
   "outputs": [],
   "source": [
    "# Split into training and validation\n",
    "X_val, X_test, y_val, y_test = train_test_split(X_test, y_test, test_size=0.1/(0.1 + 0.2))"
   ]
  },
  {
   "cell_type": "code",
   "execution_count": 20,
   "id": "d4b06034",
   "metadata": {},
   "outputs": [
    {
     "name": "stdout",
     "output_type": "stream",
     "text": [
      "Shape of training set: (69589, 1126)\n",
      "Shape of validation set: (19882, 1126)\n",
      "Shape of test set: (9942, 1126)\n"
     ]
    }
   ],
   "source": [
    "print(\"Shape of training set:\", X_train.shape)\n",
    "print(\"Shape of validation set:\", X_val.shape)\n",
    "print(\"Shape of test set:\", X_test.shape)"
   ]
  },
  {
   "cell_type": "code",
   "execution_count": 21,
   "id": "59a1e72b",
   "metadata": {},
   "outputs": [],
   "source": [
    "scaler = StandardScaler()\n",
    "scaler.fit(X_train[numeric_features])\n",
    "X_train[numeric_features] = scaler.transform(X_train[numeric_features])\n",
    "X_val[numeric_features] = scaler.transform(X_val[numeric_features])\n",
    "X_test[numeric_features] = scaler.transform(X_test[numeric_features])"
   ]
  },
  {
   "cell_type": "code",
   "execution_count": 22,
   "id": "bbdd6934",
   "metadata": {},
   "outputs": [],
   "source": [
    "pca = PCA(n_components=30)\n",
    "pca.fit(X_train)\n",
    "X_pca_train = pca.transform(X_train)\n",
    "X_pca_val = pca.transform(X_val)\n",
    "X_pca_test = pca.transform(X_test)"
   ]
  },
  {
   "cell_type": "code",
   "execution_count": 23,
   "id": "4ae401bb",
   "metadata": {},
   "outputs": [
    {
     "data": {
      "image/png": "[encoded data removed]",
      "text/plain": [
       "<Figure size 432x288 with 1 Axes>"
      ]
     },
     "metadata": {
      "needs_background": "light"
     },
     "output_type": "display_data"
    }
   ],
   "source": [
    "# Scree plot\n",
    "PC_values = np.arange(pca.n_components_) + 1\n",
    "plt.plot(PC_values, pca.explained_variance_ratio_, 'ro-', linewidth=2)\n",
    "plt.title('Scree Plot')\n",
    "plt.xlabel('Principal Component')\n",
    "plt.ylabel('Proportion of Variance Explained')\n",
    "plt.show()"
   ]
  },
  {
   "cell_type": "code",
   "execution_count": 24,
   "id": "40e21328",
   "metadata": {},
   "outputs": [],
   "source": [
    "# Select top 15 principal components\n",
    "pca = PCA(n_components=15)\n",
    "pca.fit(X_train)\n",
    "X_pca_train = pca.transform(X_train)\n",
    "X_pca_val = pca.transform(X_val)\n",
    "X_pca_test = pca.transform(X_test)"
   ]
  },
  {
   "cell_type": "code",
   "execution_count": 25,
   "id": "9e2cdd71",
   "metadata": {},
   "outputs": [],
   "source": [
    "with open('/cdtshared/wearables/students/group5/XtrainPCA.pkl','wb') as f:\n",
    "    pickle.dump(X_pca_train, f)\n",
    "with open('/cdtshared/wearables/students/group5/XvalPCA.pkl','wb') as f:\n",
    "    pickle.dump(X_pca_val, f)\n",
    "with open('/cdtshared/wearables/students/group5/XtestPCA.pkl','wb') as f:\n",
    "    pickle.dump(X_pca_test, f)\n",
    "with open('/cdtshared/wearables/students/group5/ytrainPCA.pkl','wb') as f:\n",
    "    pickle.dump(y_train, f)\n",
    "with open('/cdtshared/wearables/students/group5/yvalPCA.pkl','wb') as f:\n",
    "    pickle.dump(y_val, f)\n",
    "with open('/cdtshared/wearables/students/group5/ytestPCA.pkl','wb') as f:\n",
    "    pickle.dump(y_test, f)"
   ]
  },
  {
   "cell_type": "code",
   "execution_count": null,
   "id": "2745c8a9",
   "metadata": {},
   "outputs": [],
   "source": []
  }
 ],
 "metadata": {
  "kernelspec": {
   "display_name": "Python 3 (ipykernel)",
   "language": "python",
   "name": "python3"
  },
  "language_info": {
   "codemirror_mode": {
    "name": "ipython",
    "version": 3
   },
   "file_extension": ".py",
   "mimetype": "text/x-python",
   "name": "python",
   "nbconvert_exporter": "python",
   "pygments_lexer": "ipython3",
   "version": "3.9.7"
  }
 },
 "nbformat": 4,
 "nbformat_minor": 5
}
