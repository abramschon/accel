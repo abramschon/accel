{
 "cells": [
  {
   "cell_type": "code",
   "execution_count": null,
   "id": "33551b07",
   "metadata": {},
   "outputs": [],
   "source": [
    "import os\n",
    "from glob import glob\n",
    "import numpy as np\n",
    "import pandas as pd\n",
    "import matplotlib.pyplot as plt\n",
    "from sklearn.linear_model import ElasticNet\n",
    "from sklearn import decomposition\n",
    "from sklearn import preprocessing\n",
    "from sklearn import manifold\n",
    "from sklearn import metrics\n",
    "from tqdm.auto import tqdm\n",
    "from joblib import Parallel, delayed\n",
    "from sklearn.model_selection import train_test_split\n",
    "from sklearn.model_selection import GridSearchCV\n",
    "from skopt import BayesSearchCV\n",
    "from sklearn.preprocessing import OneHotEncoder\n",
    "from sklearn.metrics import r2_score, mean_squared_error, explained_variance_score\n",
    "\n",
    "import warnings\n",
    "warnings.filterwarnings('ignore')\n",
    "\n",
    "# For reproducibility\n",
    "np.random.seed(42)"
   ]
  },
  {
   "cell_type": "code",
   "execution_count": null,
   "id": "f1d2ddeb",
   "metadata": {},
   "outputs": [],
   "source": [
    "def load_data(datafile):\n",
    "    \"\"\" Utility function to load the data files with correct dtypes \"\"\"\n",
    "    data = pd.read_csv(\n",
    "        datafile\n",
    "    )\n",
    "    return data"
   ]
  },
  {
   "cell_type": "code",
   "execution_count": null,
   "id": "1ff66201",
   "metadata": {},
   "outputs": [],
   "source": [
    "# Path to dataset\n",
    "PATH = '/cdtshared/wearables/students/group5/'\n",
    "\n",
    "# Features from biobank\n",
    "features = load_data(PATH+'reduced-cohort.csv')"
   ]
  },
  {
   "cell_type": "code",
   "execution_count": null,
   "id": "67d81427",
   "metadata": {},
   "outputs": [],
   "source": [
    "# identify the categorical features\n",
    "categorical_features = []\n",
    "for columns in features:\n",
    "    if features[columns].dtype=='object':\n",
    "        categorical_features.append(columns)"
   ]
  },
  {
   "cell_type": "code",
   "execution_count": null,
   "id": "e15690c8",
   "metadata": {},
   "outputs": [],
   "source": [
    "features_of_interest = list(set(list(features.columns)) - set(['Unnamed: 0', 'Participant ID']))\n",
    "numeric_features = list(set(features_of_interest) - set(categorical_features))\n",
    "\n",
    "Y = features['acc.overall.avg']\n",
    "X = features[features_of_interest]\n",
    "\n",
    "# Impute the missing values, mean for numeric, mode for categorical\n",
    "# numeric columns\n",
    "X.fillna(X[numeric_features].mean().iloc[0], inplace=True)\n",
    "\n",
    "# categorical columns\n",
    "X.fillna(X[categorical_features].mode().iloc[0], inplace=True)"
   ]
  },
  {
   "cell_type": "code",
   "execution_count": null,
   "id": "cf6a4a95",
   "metadata": {},
   "outputs": [],
   "source": [
    "# Check for any missing values\n",
    "X[X.isnull().any(axis=1)]"
   ]
  },
  {
   "cell_type": "code",
   "execution_count": null,
   "id": "ebd7b096",
   "metadata": {},
   "outputs": [],
   "source": [
    "# Export the dataset without missing values\n",
    "dataset = pd.concat([X, Y], axis=1)\n",
    "dataset.to_pickle(\"/cdtshared/wearables/students/group5/imputed_dataset.pkl\")"
   ]
  }
 ],
 "metadata": {
  "kernelspec": {
   "display_name": "Python 3 (ipykernel)",
   "language": "python",
   "name": "python3"
  },
  "language_info": {
   "codemirror_mode": {
    "name": "ipython",
    "version": 3
   },
   "file_extension": ".py",
   "mimetype": "text/x-python",
   "name": "python",
   "nbconvert_exporter": "python",
   "pygments_lexer": "ipython3",
   "version": "3.9.7"
  }
 },
 "nbformat": 4,
 "nbformat_minor": 5
}
