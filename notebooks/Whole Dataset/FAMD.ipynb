{
 "cells": [
  {
   "cell_type": "code",
   "execution_count": 56,
   "id": "ffeb642d",
   "metadata": {},
   "outputs": [],
   "source": [
    "import os\n",
    "from glob import glob\n",
    "import numpy as np\n",
    "\n",
    "import pandas as pd\n",
    "import prince\n",
    "from sklearn.model_selection import train_test_split\n",
    "import pickle\n",
    "import matplotlib.pyplot as plt\n",
    "%matplotlib inline\n",
    "\n",
    "\n",
    "import warnings\n",
    "warnings.filterwarnings('ignore')\n",
    "\n",
    "# For reproducibility\n",
    "np.random.seed(42)"
   ]
  },
  {
   "cell_type": "code",
   "execution_count": 57,
   "id": "d0d48cae",
   "metadata": {},
   "outputs": [],
   "source": [
    "# Path to dataset\n",
    "PATH = '/cdtshared/wearables/students/group5/'\n",
    "\n",
    "# Features from biobank\n",
    "features = pd.read_pickle(PATH+\"imputed_dataset.pkl\")"
   ]
  },
  {
   "cell_type": "code",
   "execution_count": 58,
   "id": "430bbd0b",
   "metadata": {},
   "outputs": [],
   "source": [
    "features_of_interest = list(set(list(features.columns)) - set(['acc.overall.avg']))\n",
    "\n",
    "Y = features['acc.overall.avg']\n",
    "X = features[features_of_interest]"
   ]
  },
  {
   "cell_type": "code",
   "execution_count": 59,
   "id": "55c218e9",
   "metadata": {},
   "outputs": [],
   "source": [
    "# identify the categorical features\n",
    "categorical_features = []\n",
    "for columns in list(X.columns):\n",
    "    if features[columns].dtype=='object':\n",
    "        categorical_features.append(columns)\n",
    "        \n",
    "numeric_features = list(set(features_of_interest) - set(categorical_features))\n",
    "X[numeric_features] = X[numeric_features].apply(pd.to_numeric)"
   ]
  },
  {
   "cell_type": "code",
   "execution_count": 60,
   "id": "4107d333",
   "metadata": {},
   "outputs": [],
   "source": [
    "X_enc = X\n",
    "Y = Y.to_numpy()"
   ]
  },
  {
   "cell_type": "code",
   "execution_count": 61,
   "id": "e2cb2116",
   "metadata": {},
   "outputs": [],
   "source": [
    "# Split into training and testing, 70:20:10\n",
    "X_train, X_test, y_train, y_test = train_test_split(X_enc, Y, test_size=0.3)"
   ]
  },
  {
   "cell_type": "code",
   "execution_count": 62,
   "id": "016916d1",
   "metadata": {},
   "outputs": [],
   "source": [
    "# Split into training and validation\n",
    "X_val, X_test, y_val, y_test = train_test_split(X_test, y_test, test_size=0.1/(0.1 + 0.2))"
   ]
  },
  {
   "cell_type": "code",
   "execution_count": 63,
   "id": "342186aa",
   "metadata": {},
   "outputs": [],
   "source": [
    "# Only keep features which have been split appropriately so all classes are present (needed for FAMD)\n",
    "keep = []\n",
    "for clmn in X_enc[categorical_features].columns:\n",
    "    train_cats = set(X_train[clmn].unique())\n",
    "    val_cats = set(X_val[clmn].unique())\n",
    "    test_cats = set(X_test[clmn].unique())\n",
    "    keep.append(train_cats == val_cats == test_cats)\n",
    "\n",
    "keep_columns_cat = X_enc[categorical_features].columns[keep]\n",
    "keep_columns = list(keep_columns_cat) + numeric_features\n",
    "\n",
    "X_train = X_train[keep_columns]\n",
    "X_val = X_val[keep_columns]\n",
    "X_test = X_test[keep_columns]"
   ]
  },
  {
   "cell_type": "code",
   "execution_count": 64,
   "id": "d4b06034",
   "metadata": {},
   "outputs": [
    {
     "name": "stdout",
     "output_type": "stream",
     "text": [
      "Shape of training set: (69589, 43)\n",
      "Shape of validation set: (19882, 43)\n",
      "Shape of test set: (9942, 43)\n"
     ]
    }
   ],
   "source": [
    "print(\"Shape of training set:\", X_train.shape)\n",
    "print(\"Shape of validation set:\", X_val.shape)\n",
    "print(\"Shape of test set:\", X_test.shape)"
   ]
  },
  {
   "cell_type": "code",
   "execution_count": 65,
   "id": "bbdd6934",
   "metadata": {},
   "outputs": [],
   "source": [
    "famd = prince.FAMD(n_components=30, n_iter=10, copy=True, check_input=True, engine='auto', random_state=42)\n",
    "famd = famd.fit(X_train)"
   ]
  },
  {
   "cell_type": "code",
   "execution_count": 66,
   "id": "4ae401bb",
   "metadata": {},
   "outputs": [
    {
     "data": {
      "image/png": "[encoded data removed]",
      "text/plain": [
       "<Figure size 432x288 with 1 Axes>"
      ]
     },
     "metadata": {
      "needs_background": "light"
     },
     "output_type": "display_data"
    }
   ],
   "source": [
    "# Scree plot\n",
    "PC_values = np.arange(30) + 1\n",
    "plt.plot(PC_values, famd.explained_inertia_, 'ro-', linewidth=2)\n",
    "plt.title('Scree Plot for FAMD')\n",
    "plt.xlabel('Principal Component')\n",
    "plt.ylabel('Proportion of Inertia Explained')\n",
    "plt.show()"
   ]
  },
  {
   "cell_type": "code",
   "execution_count": 54,
   "id": "40e21328",
   "metadata": {},
   "outputs": [],
   "source": [
    "# Select top 15 principal components\n",
    "famd = prince.FAMD(n_components=15, n_iter=10, copy=True, check_input=True, engine='auto', random_state=42)\n",
    "famd.fit(X_train)\n",
    "X_pca_train = famd.transform(X_train)\n",
    "X_pca_val = famd.transform(X_val)\n",
    "X_pca_test = famd.transform(X_test)"
   ]
  },
  {
   "cell_type": "code",
   "execution_count": 55,
   "id": "9e2cdd71",
   "metadata": {},
   "outputs": [],
   "source": [
    "with open('/cdtshared/wearables/students/group5/XtrainFAMD.pkl','wb') as f:\n",
    "    pickle.dump(X_pca_train, f)\n",
    "with open('/cdtshared/wearables/students/group5/XvalFAMD.pkl','wb') as f:\n",
    "    pickle.dump(X_pca_val, f)\n",
    "with open('/cdtshared/wearables/students/group5/XtestFAMD.pkl','wb') as f:\n",
    "    pickle.dump(X_pca_test, f)\n",
    "with open('/cdtshared/wearables/students/group5/ytrainFAMD.pkl','wb') as f:\n",
    "    pickle.dump(y_train, f)\n",
    "with open('/cdtshared/wearables/students/group5/yvalFAMD.pkl','wb') as f:\n",
    "    pickle.dump(y_val, f)\n",
    "with open('/cdtshared/wearables/students/group5/ytestFAMD.pkl','wb') as f:\n",
    "    pickle.dump(y_test, f)"
   ]
  },
  {
   "cell_type": "code",
   "execution_count": null,
   "id": "2745c8a9",
   "metadata": {},
   "outputs": [],
   "source": []
  }
 ],
 "metadata": {
  "kernelspec": {
   "display_name": "Python 3 (ipykernel)",
   "language": "python",
   "name": "python3"
  },
  "language_info": {
   "codemirror_mode": {
    "name": "ipython",
    "version": 3
   },
   "file_extension": ".py",
   "mimetype": "text/x-python",
   "name": "python",
   "nbconvert_exporter": "python",
   "pygments_lexer": "ipython3",
   "version": "3.9.7"
  }
 },
 "nbformat": 4,
 "nbformat_minor": 5
}
