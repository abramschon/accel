{
 "cells": [
  {
   "cell_type": "markdown",
   "id": "39158b55",
   "metadata": {},
   "source": [
    "# Support Vector Machine\n",
    "In this notebook, we fit a SVM to the regression problem of predicting mean activity based on non-wearable features taken from the UK biobank. "
   ]
  },
  {
   "cell_type": "code",
   "execution_count": 1,
   "id": "26aba2de",
   "metadata": {},
   "outputs": [],
   "source": [
    "# imports\n",
    "import numpy as np\n",
    "import pandas as pd\n",
    "import matplotlib.pyplot as plt\n",
    "\n",
    "# For reproducibility\n",
    "np.random.seed(42)"
   ]
  },
  {
   "cell_type": "code",
   "execution_count": 2,
   "id": "67c7c180",
   "metadata": {},
   "outputs": [],
   "source": [
    "from accel.read_data import prep_data\n",
    "from accel.constants import DATA_DIR, DEMO, PHYSICAL"
   ]
  },
  {
   "cell_type": "markdown",
   "id": "3bd528b9",
   "metadata": {},
   "source": [
    "## Data prep"
   ]
  },
  {
   "cell_type": "code",
   "execution_count": 3,
   "id": "f8114424",
   "metadata": {},
   "outputs": [],
   "source": [
    "X_train, X_val, X_test, y_train, y_val, y_test, means_modes = prep_data(DATA_DIR / \"shared/eliminated-missing-participants.csv\",\n",
    "                                                                        [PHYSICAL],\n",
    "                                                                        normalise = True,\n",
    "                                                                        one_hot = True)"
   ]
  },
  {
   "cell_type": "code",
   "execution_count": 4,
   "id": "ebb1fe91",
   "metadata": {},
   "outputs": [
    {
     "name": "stdout",
     "output_type": "stream",
     "text": [
      "(60829, 12)\n"
     ]
    },
    {
     "data": {
      "text/html": [
       "<div>\n",
       "<style scoped>\n",
       "    .dataframe tbody tr th:only-of-type {\n",
       "        vertical-align: middle;\n",
       "    }\n",
       "\n",
       "    .dataframe tbody tr th {\n",
       "        vertical-align: top;\n",
       "    }\n",
       "\n",
       "    .dataframe thead th {\n",
       "        text-align: right;\n",
       "    }\n",
       "</style>\n",
       "<table border=\"1\" class=\"dataframe\">\n",
       "  <thead>\n",
       "    <tr style=\"text-align: right;\">\n",
       "      <th></th>\n",
       "      <th>MET minutes per week for walking | Instance 0</th>\n",
       "      <th>Duration of walks | Instance 0</th>\n",
       "      <th>Body mass index (BMI) | Instance 0</th>\n",
       "      <th>Summed days activity | Instance 0</th>\n",
       "      <th>Above moderate/vigorous recommendation | Instance 0_Yes</th>\n",
       "      <th>Above moderate/vigorous/walking recommendation | Instance 0_Yes</th>\n",
       "      <th>Frequency of stair climbing in last 4 weeks | Instance 0</th>\n",
       "      <th>IPAQ activity group | Instance 0</th>\n",
       "      <th>Above moderate/vigorous recommendation | Instance 0_No</th>\n",
       "      <th>MET minutes per week for vigorous activity | Instance 0</th>\n",
       "      <th>MET minutes per week for moderate activity | Instance 0</th>\n",
       "      <th>Above moderate/vigorous/walking recommendation | Instance 0_No</th>\n",
       "    </tr>\n",
       "  </thead>\n",
       "  <tbody>\n",
       "    <tr>\n",
       "      <th>17537</th>\n",
       "      <td>0.057918</td>\n",
       "      <td>-0.166814</td>\n",
       "      <td>-0.106426</td>\n",
       "      <td>0.918630</td>\n",
       "      <td>1</td>\n",
       "      <td>1</td>\n",
       "      <td>-0.218657</td>\n",
       "      <td>1.065866</td>\n",
       "      <td>0</td>\n",
       "      <td>-0.545487</td>\n",
       "      <td>3.579646</td>\n",
       "      <td>0</td>\n",
       "    </tr>\n",
       "    <tr>\n",
       "      <th>77203</th>\n",
       "      <td>-0.637437</td>\n",
       "      <td>-0.534969</td>\n",
       "      <td>0.027618</td>\n",
       "      <td>-0.358617</td>\n",
       "      <td>0</td>\n",
       "      <td>1</td>\n",
       "      <td>-0.218657</td>\n",
       "      <td>-0.311621</td>\n",
       "      <td>1</td>\n",
       "      <td>-0.508467</td>\n",
       "      <td>-0.294569</td>\n",
       "      <td>0</td>\n",
       "    </tr>\n",
       "    <tr>\n",
       "      <th>83172</th>\n",
       "      <td>-0.637437</td>\n",
       "      <td>-0.534969</td>\n",
       "      <td>1.193208</td>\n",
       "      <td>0.918630</td>\n",
       "      <td>1</td>\n",
       "      <td>1</td>\n",
       "      <td>0.570276</td>\n",
       "      <td>1.065866</td>\n",
       "      <td>0</td>\n",
       "      <td>1.601703</td>\n",
       "      <td>0.273649</td>\n",
       "      <td>0</td>\n",
       "    </tr>\n",
       "    <tr>\n",
       "      <th>74938</th>\n",
       "      <td>-0.960858</td>\n",
       "      <td>0.000000</td>\n",
       "      <td>-0.436555</td>\n",
       "      <td>-0.145743</td>\n",
       "      <td>0</td>\n",
       "      <td>0</td>\n",
       "      <td>0.000000</td>\n",
       "      <td>-0.311621</td>\n",
       "      <td>1</td>\n",
       "      <td>-0.175282</td>\n",
       "      <td>-0.346225</td>\n",
       "      <td>1</td>\n",
       "    </tr>\n",
       "    <tr>\n",
       "      <th>29263</th>\n",
       "      <td>3.114248</td>\n",
       "      <td>5.355510</td>\n",
       "      <td>-0.448076</td>\n",
       "      <td>2.195878</td>\n",
       "      <td>1</td>\n",
       "      <td>1</td>\n",
       "      <td>-0.218657</td>\n",
       "      <td>1.065866</td>\n",
       "      <td>0</td>\n",
       "      <td>8.709642</td>\n",
       "      <td>3.579646</td>\n",
       "      <td>0</td>\n",
       "    </tr>\n",
       "  </tbody>\n",
       "</table>\n",
       "</div>"
      ],
      "text/plain": [
       "       MET minutes per week for walking | Instance 0  \\\n",
       "17537                                       0.057918   \n",
       "77203                                      -0.637437   \n",
       "83172                                      -0.637437   \n",
       "74938                                      -0.960858   \n",
       "29263                                       3.114248   \n",
       "\n",
       "       Duration of walks | Instance 0  Body mass index (BMI) | Instance 0  \\\n",
       "17537                       -0.166814                           -0.106426   \n",
       "77203                       -0.534969                            0.027618   \n",
       "83172                       -0.534969                            1.193208   \n",
       "74938                        0.000000                           -0.436555   \n",
       "29263                        5.355510                           -0.448076   \n",
       "\n",
       "       Summed days activity | Instance 0  \\\n",
       "17537                           0.918630   \n",
       "77203                          -0.358617   \n",
       "83172                           0.918630   \n",
       "74938                          -0.145743   \n",
       "29263                           2.195878   \n",
       "\n",
       "       Above moderate/vigorous recommendation | Instance 0_Yes  \\\n",
       "17537                                                  1         \n",
       "77203                                                  0         \n",
       "83172                                                  1         \n",
       "74938                                                  0         \n",
       "29263                                                  1         \n",
       "\n",
       "       Above moderate/vigorous/walking recommendation | Instance 0_Yes  \\\n",
       "17537                                                  1                 \n",
       "77203                                                  1                 \n",
       "83172                                                  1                 \n",
       "74938                                                  0                 \n",
       "29263                                                  1                 \n",
       "\n",
       "       Frequency of stair climbing in last 4 weeks | Instance 0  \\\n",
       "17537                                          -0.218657          \n",
       "77203                                          -0.218657          \n",
       "83172                                           0.570276          \n",
       "74938                                           0.000000          \n",
       "29263                                          -0.218657          \n",
       "\n",
       "       IPAQ activity group | Instance 0  \\\n",
       "17537                          1.065866   \n",
       "77203                         -0.311621   \n",
       "83172                          1.065866   \n",
       "74938                         -0.311621   \n",
       "29263                          1.065866   \n",
       "\n",
       "       Above moderate/vigorous recommendation | Instance 0_No  \\\n",
       "17537                                                  0        \n",
       "77203                                                  1        \n",
       "83172                                                  0        \n",
       "74938                                                  1        \n",
       "29263                                                  0        \n",
       "\n",
       "       MET minutes per week for vigorous activity | Instance 0  \\\n",
       "17537                                          -0.545487         \n",
       "77203                                          -0.508467         \n",
       "83172                                           1.601703         \n",
       "74938                                          -0.175282         \n",
       "29263                                           8.709642         \n",
       "\n",
       "       MET minutes per week for moderate activity | Instance 0  \\\n",
       "17537                                           3.579646         \n",
       "77203                                          -0.294569         \n",
       "83172                                           0.273649         \n",
       "74938                                          -0.346225         \n",
       "29263                                           3.579646         \n",
       "\n",
       "       Above moderate/vigorous/walking recommendation | Instance 0_No  \n",
       "17537                                                  0               \n",
       "77203                                                  0               \n",
       "83172                                                  0               \n",
       "74938                                                  1               \n",
       "29263                                                  0               "
      ]
     },
     "execution_count": 4,
     "metadata": {},
     "output_type": "execute_result"
    }
   ],
   "source": [
    "print(X_train.shape)\n",
    "X_train.head()"
   ]
  },
  {
   "cell_type": "markdown",
   "id": "4b77f6dd",
   "metadata": {},
   "source": [
    "# Support vector machine"
   ]
  },
  {
   "cell_type": "code",
   "execution_count": 5,
   "id": "ed59de6a",
   "metadata": {},
   "outputs": [],
   "source": [
    "from time import time\n",
    "from sklearn import svm\n",
    "from accel.training import model_tune, score"
   ]
  },
  {
   "cell_type": "markdown",
   "id": "75a04b18",
   "metadata": {},
   "source": [
    "## Timing\n",
    "Timing how long it takes to fit an SVM to different sizes of data. Keep in mind, there are 69567 training observations."
   ]
  },
  {
   "cell_type": "code",
   "execution_count": 6,
   "id": "5252c579",
   "metadata": {},
   "outputs": [
    {
     "data": {
      "text/plain": [
       "array([ 100, 1100, 2100, 3100, 4100, 5100, 6100, 7100, 8100, 9100])"
      ]
     },
     "execution_count": 6,
     "metadata": {},
     "output_type": "execute_result"
    }
   ],
   "source": [
    "Ns = np.arange(100,10001,1000)\n",
    "Ns"
   ]
  },
  {
   "cell_type": "code",
   "execution_count": 7,
   "id": "bbb32dd8",
   "metadata": {},
   "outputs": [
    {
     "name": "stdout",
     "output_type": "stream",
     "text": [
      "Rep 0 Size:100, 1100, 2100, 3100, 4100, 5100, 6100, 7100, 8100, 9100, \n",
      "Rep 1 Size:100, 1100, 2100, 3100, 4100, 5100, 6100, 7100, 8100, 9100, \n",
      "Rep 2 Size:100, 1100, 2100, 3100, 4100, 5100, 6100, 7100, 8100, 9100, \n",
      "Rep 3 Size:100, 1100, 2100, 3100, 4100, 5100, 6100, 7100, 8100, 9100, \n",
      "Rep 4 Size:100, 1100, 2100, 3100, 4100, 5100, 6100, 7100, 8100, 9100, \n"
     ]
    }
   ],
   "source": [
    "reps = 5\n",
    "times = np.zeros((reps,len(Ns)))\n",
    "\n",
    "for r in range(reps):\n",
    "    print(\"Rep\",r, \"Size:\", end=\"\")\n",
    "    for i in range(len(Ns)):\n",
    "        print(Ns[i],end=\", \")\n",
    "        N = Ns[i]\n",
    "        clf = svm.SVR() # default SVR with an RBF kernel\n",
    "        start = time()\n",
    "        clf.fit(X_train[:N], y_train[:N ]) #train model and time\n",
    "        times[r,i] = time() - start\n",
    "    print()"
   ]
  },
  {
   "cell_type": "code",
   "execution_count": 8,
   "id": "20357001",
   "metadata": {},
   "outputs": [
    {
     "data": {
      "image/png": "[encoded data removed]",
      "text/plain": [
       "<Figure size 432x288 with 1 Axes>"
      ]
     },
     "metadata": {
      "needs_background": "light"
     },
     "output_type": "display_data"
    }
   ],
   "source": [
    "plt.plot(Ns, np.sqrt(np.mean(times,axis=0)), \".\")\n",
    "plt.xlabel(\"No. samples\")\n",
    "plt.ylabel(\"Square root training time ($seconds^{1/2}$)\")\n",
    "plt.show()"
   ]
  },
  {
   "cell_type": "code",
   "execution_count": 9,
   "id": "0291e449",
   "metadata": {},
   "outputs": [
    {
     "data": {
      "text/plain": [
       "0.00022470676505063002"
      ]
     },
     "execution_count": 9,
     "metadata": {},
     "output_type": "execute_result"
    }
   ],
   "source": [
    "root_mean_times = np.sqrt(np.mean(times,axis=0))\n",
    "m = root_mean_times[-1] / Ns[-1]\n",
    "m"
   ]
  },
  {
   "cell_type": "code",
   "execution_count": 10,
   "id": "20927e88",
   "metadata": {},
   "outputs": [
    {
     "data": {
      "text/plain": [
       "2.0448315619607333"
      ]
     },
     "execution_count": 10,
     "metadata": {},
     "output_type": "execute_result"
    }
   ],
   "source": [
    "(m * 9100)"
   ]
  },
  {
   "cell_type": "markdown",
   "id": "3f39b460",
   "metadata": {},
   "source": [
    "As we can see, the training algorithm is quadratic in the number of samples. We can estimate the time it would take on the full data set as follows:\n",
    "\n",
    "$N = \\text{number of samples}$\n",
    "\n",
    "$\\text{Mean time}^{1/2} = 265\\cdot 10^{-4} \\times N$\n",
    "\n",
    "$\\text{Mean time} = ( 265\\cdot 10^{-4} \\times N ) ^2$"
   ]
  },
  {
   "cell_type": "code",
   "execution_count": 11,
   "id": "2cba9118",
   "metadata": {},
   "outputs": [
    {
     "name": "stdout",
     "output_type": "stream",
     "text": [
      "Predicted training time in minutes 4.072748527030175\n"
     ]
    }
   ],
   "source": [
    "N_train = X_train.shape[0]\n",
    "pred_secs = (m * N_train)**2 #answer in seconds\n",
    "print(\"Predicted training time in minutes\", pred_secs / 60) # answer in minutes"
   ]
  },
  {
   "cell_type": "code",
   "execution_count": 7,
   "id": "6feddefc",
   "metadata": {},
   "outputs": [
    {
     "data": {
      "text/plain": [
       "245.68137407302856"
      ]
     },
     "execution_count": 7,
     "metadata": {},
     "output_type": "execute_result"
    }
   ],
   "source": [
    "# fitting the classifier, which might take 5 minutes\n",
    "clf = svm.SVR()\n",
    "start = time()\n",
    "clf.fit(X_train, y_train) #train model and time\n",
    "time() - start"
   ]
  },
  {
   "cell_type": "code",
   "execution_count": 9,
   "id": "e5c6d9cb",
   "metadata": {},
   "outputs": [
    {
     "data": {
      "text/plain": [
       "4.083333333333333"
      ]
     },
     "execution_count": 9,
     "metadata": {},
     "output_type": "execute_result"
    }
   ],
   "source": [
    "245/60 # so actually took a bit longer"
   ]
  },
  {
   "cell_type": "markdown",
   "id": "0cc39c1a",
   "metadata": {},
   "source": [
    "How good is the out the box model?"
   ]
  },
  {
   "cell_type": "code",
   "execution_count": 10,
   "id": "ee3a1920",
   "metadata": {},
   "outputs": [],
   "source": [
    "from accel.training import score"
   ]
  },
  {
   "cell_type": "code",
   "execution_count": 11,
   "id": "79804657",
   "metadata": {},
   "outputs": [],
   "source": [
    "y_pred = clf.predict(X_val)"
   ]
  },
  {
   "cell_type": "code",
   "execution_count": 12,
   "id": "bce351fa",
   "metadata": {},
   "outputs": [
    {
     "data": {
      "text/plain": [
       "[<matplotlib.lines.Line2D at 0x7f8949a1afa0>]"
      ]
     },
     "execution_count": 12,
     "metadata": {},
     "output_type": "execute_result"
    },
    {
     "data": {
      "image/png": "[encoded data removed]",
      "text/plain": [
       "<Figure size 432x288 with 1 Axes>"
      ]
     },
     "metadata": {
      "needs_background": "light"
     },
     "output_type": "display_data"
    }
   ],
   "source": [
    "plt.plot(y_val,y_pred, \".\")"
   ]
  },
  {
   "cell_type": "code",
   "execution_count": 13,
   "id": "b4d6f0f3",
   "metadata": {},
   "outputs": [
    {
     "name": "stdout",
     "output_type": "stream",
     "text": [
      "MSE is:  77.24804483636107\n",
      "R2 is:  0.09270852412165731\n",
      "Explained variance is: 0.09581020080377112\n"
     ]
    }
   ],
   "source": [
    "score(y_val, y_pred)"
   ]
  },
  {
   "cell_type": "markdown",
   "id": "12c11260",
   "metadata": {},
   "source": [
    "## Linear SVM"
   ]
  },
  {
   "cell_type": "code",
   "execution_count": 68,
   "id": "13abcb4c",
   "metadata": {},
   "outputs": [
    {
     "data": {
      "text/plain": [
       "0.0675652027130127"
      ]
     },
     "execution_count": 68,
     "metadata": {},
     "output_type": "execute_result"
    }
   ],
   "source": [
    "clf = svm.LinearSVR(loss='squared_epsilon_insensitive', dual=False)\n",
    "start = time()\n",
    "clf.fit(X_train, y_train) #train model and time\n",
    "time() - start"
   ]
  },
  {
   "cell_type": "code",
   "execution_count": 69,
   "id": "5c07a8f1",
   "metadata": {},
   "outputs": [],
   "source": [
    "y_pred = clf.predict(X_val)"
   ]
  },
  {
   "cell_type": "code",
   "execution_count": 70,
   "id": "10ecc92c",
   "metadata": {},
   "outputs": [
    {
     "data": {
      "text/plain": [
       "[<matplotlib.lines.Line2D at 0x7f8944683b50>]"
      ]
     },
     "execution_count": 70,
     "metadata": {},
     "output_type": "execute_result"
    },
    {
     "data": {
      "image/png": "[encoded data removed]",
      "text/plain": [
       "<Figure size 432x288 with 1 Axes>"
      ]
     },
     "metadata": {
      "needs_background": "light"
     },
     "output_type": "display_data"
    }
   ],
   "source": [
    "plt.plot(y_val,y_pred, \".\")"
   ]
  },
  {
   "cell_type": "code",
   "execution_count": 71,
   "id": "4760dcc5",
   "metadata": {},
   "outputs": [
    {
     "name": "stdout",
     "output_type": "stream",
     "text": [
      "MSE is:  77.85987314424546\n",
      "R2 is:  0.08552249618243268\n",
      "Explained variance is: 0.08561683861145064\n"
     ]
    }
   ],
   "source": [
    "score(y_val, y_pred)"
   ]
  },
  {
   "cell_type": "markdown",
   "id": "0edc77f5",
   "metadata": {},
   "source": [
    "# Hyper-parameter tuning\n",
    "We perform hyper-parameter tuning on the linear SVM since it is less time-consuming to fit"
   ]
  },
  {
   "cell_type": "code",
   "execution_count": 6,
   "id": "bfcee929",
   "metadata": {},
   "outputs": [],
   "source": [
    "from accel.training import model_tune"
   ]
  },
  {
   "cell_type": "code",
   "execution_count": 7,
   "id": "ff2a4a0f",
   "metadata": {},
   "outputs": [
    {
     "data": {
      "text/plain": [
       "9.31188125134071"
      ]
     },
     "execution_count": 7,
     "metadata": {},
     "output_type": "execute_result"
    }
   ],
   "source": [
    "y_train.std()"
   ]
  },
  {
   "cell_type": "code",
   "execution_count": 8,
   "id": "8ab42bea",
   "metadata": {},
   "outputs": [
    {
     "data": {
      "text/plain": [
       "array([1.00000000e-10, 1.29154967e-09, 1.66810054e-08, 2.15443469e-07,\n",
       "       2.78255940e-06, 3.59381366e-05, 4.64158883e-04, 5.99484250e-03,\n",
       "       7.74263683e-02, 1.00000000e+00])"
      ]
     },
     "execution_count": 8,
     "metadata": {},
     "output_type": "execute_result"
    }
   ],
   "source": [
    "np.geomspace(1e-10,1,10)"
   ]
  },
  {
   "cell_type": "code",
   "execution_count": 9,
   "id": "1d76f59c",
   "metadata": {},
   "outputs": [],
   "source": [
    "# define lists of params interested in\n",
    "\n",
    "epsilon = np.geomspace(1e-10,1,10) # size of epsilon \n",
    "C = np.geomspace(1e-3,1,10) # Small C -> big regularisation.\n",
    "\n",
    "params = {\n",
    "    \"epsilon\" : epsilon,\n",
    "    \"C\"      : C\n",
    "}"
   ]
  },
  {
   "cell_type": "code",
   "execution_count": 10,
   "id": "096c3df3",
   "metadata": {},
   "outputs": [
    {
     "name": "stdout",
     "output_type": "stream",
     "text": [
      "Fitting 5 folds for each of 1 candidates, totalling 5 fits\n",
      "Fitting 5 folds for each of 1 candidates, totalling 5 fits\n",
      "Fitting 5 folds for each of 1 candidates, totalling 5 fits\n",
      "Fitting 5 folds for each of 1 candidates, totalling 5 fits\n",
      "Fitting 5 folds for each of 1 candidates, totalling 5 fits\n",
      "Fitting 5 folds for each of 1 candidates, totalling 5 fits\n",
      "Fitting 5 folds for each of 1 candidates, totalling 5 fits\n",
      "Fitting 5 folds for each of 1 candidates, totalling 5 fits\n",
      "Fitting 5 folds for each of 1 candidates, totalling 5 fits\n",
      "Fitting 5 folds for each of 1 candidates, totalling 5 fits\n",
      "Fitting 5 folds for each of 1 candidates, totalling 5 fits\n",
      "Fitting 5 folds for each of 1 candidates, totalling 5 fits\n",
      "Fitting 5 folds for each of 1 candidates, totalling 5 fits\n",
      "Fitting 5 folds for each of 1 candidates, totalling 5 fits\n",
      "Fitting 5 folds for each of 1 candidates, totalling 5 fits\n"
     ]
    },
    {
     "name": "stderr",
     "output_type": "stream",
     "text": [
      "/cdthome/pkd542/.conda/envs/accel/lib/python3.9/site-packages/skopt/optimizer/optimizer.py:449: UserWarning: The objective has been evaluated at this point before.\n",
      "  warnings.warn(\"The objective has been evaluated \"\n"
     ]
    },
    {
     "name": "stdout",
     "output_type": "stream",
     "text": [
      "Fitting 5 folds for each of 1 candidates, totalling 5 fits\n"
     ]
    },
    {
     "name": "stderr",
     "output_type": "stream",
     "text": [
      "/cdthome/pkd542/.conda/envs/accel/lib/python3.9/site-packages/skopt/optimizer/optimizer.py:449: UserWarning: The objective has been evaluated at this point before.\n",
      "  warnings.warn(\"The objective has been evaluated \"\n"
     ]
    },
    {
     "name": "stdout",
     "output_type": "stream",
     "text": [
      "Fitting 5 folds for each of 1 candidates, totalling 5 fits\n",
      "Fitting 5 folds for each of 1 candidates, totalling 5 fits\n",
      "Fitting 5 folds for each of 1 candidates, totalling 5 fits\n"
     ]
    },
    {
     "name": "stderr",
     "output_type": "stream",
     "text": [
      "/cdthome/pkd542/.conda/envs/accel/lib/python3.9/site-packages/skopt/optimizer/optimizer.py:449: UserWarning: The objective has been evaluated at this point before.\n",
      "  warnings.warn(\"The objective has been evaluated \"\n"
     ]
    },
    {
     "name": "stdout",
     "output_type": "stream",
     "text": [
      "Fitting 5 folds for each of 1 candidates, totalling 5 fits\n",
      "Best parameter combo: OrderedDict([('C', 0.1), ('epsilon', 0.005994842503189421)])\n",
      "Best validation MSE: 0.09695121202418519\n"
     ]
    }
   ],
   "source": [
    "clf = model_tune(svm.LinearSVR(loss='squared_epsilon_insensitive', dual=False, random_state=42), \n",
    "                 params, X_train, y_train, 20)"
   ]
  },
  {
   "cell_type": "code",
   "execution_count": 11,
   "id": "988d2579",
   "metadata": {},
   "outputs": [
    {
     "data": {
      "text/plain": [
       "LinearSVR(C=0.1, dual=False, epsilon=0.005994842503189421,\n",
       "          loss='squared_epsilon_insensitive', random_state=42)"
      ]
     },
     "execution_count": 11,
     "metadata": {},
     "output_type": "execute_result"
    }
   ],
   "source": [
    "clf"
   ]
  },
  {
   "cell_type": "code",
   "execution_count": 13,
   "id": "79472a43",
   "metadata": {},
   "outputs": [
    {
     "name": "stdout",
     "output_type": "stream",
     "text": [
      "MSE is:  75.6023919022447\n",
      "R2 is:  0.10233762143843472\n",
      "Explained variance is: 0.10243339827506437\n"
     ]
    },
    {
     "data": {
      "image/png": "[encoded data removed]",
      "text/plain": [
       "<Figure size 432x288 with 1 Axes>"
      ]
     },
     "metadata": {
      "needs_background": "light"
     },
     "output_type": "display_data"
    }
   ],
   "source": [
    "y_pred = clf.predict(X_val)\n",
    "plt.plot(y_val,y_pred, \".\")\n",
    "_ = score(y_val, y_pred)"
   ]
  },
  {
   "cell_type": "markdown",
   "id": "1e8d5beb",
   "metadata": {},
   "source": [
    "## Thoughts\n",
    "It seems more feasible to train the linear SVM on the full data-set, whereas the SVMs with other kernels would seem to take a lot longer. Next steps should include seeing whether including additional variables improves the model performance."
   ]
  },
  {
   "cell_type": "code",
   "execution_count": 72,
   "id": "47200f9b",
   "metadata": {},
   "outputs": [],
   "source": [
    "from accel.constants import DIETARY, SOCIO"
   ]
  },
  {
   "cell_type": "code",
   "execution_count": 14,
   "id": "8696be08",
   "metadata": {},
   "outputs": [],
   "source": [
    "X_train, X_val, X_test, y_train, y_val, y_test, means_modes = prep_data(DATA_DIR / \"shared/reduced-cohort.csv\",\n",
    "                                                                        normalise = True,\n",
    "                                                                        one_hot = True)"
   ]
  },
  {
   "cell_type": "code",
   "execution_count": 15,
   "id": "d1efeb88",
   "metadata": {},
   "outputs": [
    {
     "data": {
      "text/plain": [
       "9.336797952651978"
      ]
     },
     "execution_count": 15,
     "metadata": {},
     "output_type": "execute_result"
    }
   ],
   "source": [
    "clf = svm.LinearSVR(loss='squared_epsilon_insensitive', dual=False)\n",
    "start = time()\n",
    "clf.fit(X_train, y_train) #train model and time\n",
    "time() - start"
   ]
  },
  {
   "cell_type": "code",
   "execution_count": 16,
   "id": "12a66e6a",
   "metadata": {},
   "outputs": [
    {
     "name": "stdout",
     "output_type": "stream",
     "text": [
      "Fitting 5 folds for each of 1 candidates, totalling 5 fits\n",
      "Fitting 5 folds for each of 1 candidates, totalling 5 fits\n",
      "Fitting 5 folds for each of 1 candidates, totalling 5 fits\n",
      "Fitting 5 folds for each of 1 candidates, totalling 5 fits\n",
      "Fitting 5 folds for each of 1 candidates, totalling 5 fits\n",
      "Fitting 5 folds for each of 1 candidates, totalling 5 fits\n",
      "Fitting 5 folds for each of 1 candidates, totalling 5 fits\n",
      "Fitting 5 folds for each of 1 candidates, totalling 5 fits\n",
      "Fitting 5 folds for each of 1 candidates, totalling 5 fits\n",
      "Fitting 5 folds for each of 1 candidates, totalling 5 fits\n",
      "Fitting 5 folds for each of 1 candidates, totalling 5 fits\n",
      "Fitting 5 folds for each of 1 candidates, totalling 5 fits\n",
      "Fitting 5 folds for each of 1 candidates, totalling 5 fits\n",
      "Fitting 5 folds for each of 1 candidates, totalling 5 fits\n",
      "Fitting 5 folds for each of 1 candidates, totalling 5 fits\n",
      "Fitting 5 folds for each of 1 candidates, totalling 5 fits\n",
      "Fitting 5 folds for each of 1 candidates, totalling 5 fits\n",
      "Fitting 5 folds for each of 1 candidates, totalling 5 fits\n"
     ]
    },
    {
     "name": "stderr",
     "output_type": "stream",
     "text": [
      "/cdthome/pkd542/.conda/envs/accel/lib/python3.9/site-packages/skopt/optimizer/optimizer.py:449: UserWarning: The objective has been evaluated at this point before.\n",
      "  warnings.warn(\"The objective has been evaluated \"\n"
     ]
    },
    {
     "name": "stdout",
     "output_type": "stream",
     "text": [
      "Fitting 5 folds for each of 1 candidates, totalling 5 fits\n",
      "Fitting 5 folds for each of 1 candidates, totalling 5 fits\n",
      "Best parameter combo: OrderedDict([('C', 0.0021544346900318843), ('epsilon', 1e-10)])\n",
      "Best validation MSE: 0.17287932034125125\n"
     ]
    }
   ],
   "source": [
    "clf = model_tune(svm.LinearSVR(loss='squared_epsilon_insensitive', dual=False, random_state=42), \n",
    "                 params, X_train, y_train, 20)"
   ]
  },
  {
   "cell_type": "code",
   "execution_count": 17,
   "id": "a1d77411",
   "metadata": {},
   "outputs": [
    {
     "name": "stdout",
     "output_type": "stream",
     "text": [
      "MSE is:  71.90184910801169\n",
      "R2 is:  0.15550050575671115\n",
      "Explained variance is: 0.15562302545566353\n"
     ]
    },
    {
     "data": {
      "image/png": "[encoded data removed]",
      "text/plain": [
       "<Figure size 432x288 with 1 Axes>"
      ]
     },
     "metadata": {
      "needs_background": "light"
     },
     "output_type": "display_data"
    }
   ],
   "source": [
    "y_pred = clf.predict(X_val)\n",
    "plt.plot(y_val,y_pred, \".\")\n",
    "_ = score(y_val, y_pred)"
   ]
  },
  {
   "cell_type": "code",
   "execution_count": null,
   "id": "ab5c8bdc",
   "metadata": {},
   "outputs": [],
   "source": []
  }
 ],
 "metadata": {
  "kernelspec": {
   "display_name": "Python 3 (ipykernel)",
   "language": "python",
   "name": "python3"
  },
  "language_info": {
   "codemirror_mode": {
    "name": "ipython",
    "version": 3
   },
   "file_extension": ".py",
   "mimetype": "text/x-python",
   "name": "python",
   "nbconvert_exporter": "python",
   "pygments_lexer": "ipython3",
   "version": "3.9.7"
  }
 },
 "nbformat": 4,
 "nbformat_minor": 5
}
