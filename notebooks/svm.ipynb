{
 "cells": [
  {
   "cell_type": "markdown",
   "id": "39158b55",
   "metadata": {},
   "source": [
    "# Support Vector Machine\n",
    "In this notebook, we fit a SVM to the regression problem of predicting mean activity based on non-wearable features taken from the UK biobank. "
   ]
  },
  {
   "cell_type": "code",
   "execution_count": 1,
   "id": "26aba2de",
   "metadata": {},
   "outputs": [],
   "source": [
    "# imports\n",
    "import numpy as np\n",
    "import pandas as pd\n",
    "import matplotlib.pyplot as plt\n",
    "\n",
    "# For reproducibility\n",
    "np.random.seed(42)"
   ]
  },
  {
   "cell_type": "code",
   "execution_count": 2,
   "id": "67c7c180",
   "metadata": {},
   "outputs": [],
   "source": [
    "from accel.read_data import prep_data\n",
    "from accel.constants import DATA_DIR, DEMO, PHYSICAL"
   ]
  },
  {
   "cell_type": "markdown",
   "id": "3bd528b9",
   "metadata": {},
   "source": [
    "## Data prep"
   ]
  },
  {
   "cell_type": "code",
   "execution_count": 63,
   "id": "f8114424",
   "metadata": {},
   "outputs": [],
   "source": [
    "X_train, X_val, X_test, y_train, y_val, y_test, means_modes = prep_data(DATA_DIR / \"shared/reduced-cohort.csv\",\n",
    "                                                                        [PHYSICAL],\n",
    "                                                                        normalise = True,\n",
    "                                                                        one_hot = True)"
   ]
  },
  {
   "cell_type": "code",
   "execution_count": 4,
   "id": "ebb1fe91",
   "metadata": {},
   "outputs": [
    {
     "name": "stdout",
     "output_type": "stream",
     "text": [
      "(69567, 12)\n"
     ]
    },
    {
     "data": {
      "text/html": [
       "<div>\n",
       "<style scoped>\n",
       "    .dataframe tbody tr th:only-of-type {\n",
       "        vertical-align: middle;\n",
       "    }\n",
       "\n",
       "    .dataframe tbody tr th {\n",
       "        vertical-align: top;\n",
       "    }\n",
       "\n",
       "    .dataframe thead th {\n",
       "        text-align: right;\n",
       "    }\n",
       "</style>\n",
       "<table border=\"1\" class=\"dataframe\">\n",
       "  <thead>\n",
       "    <tr style=\"text-align: right;\">\n",
       "      <th></th>\n",
       "      <th>Above moderate/vigorous recommendation | Instance 0_No</th>\n",
       "      <th>MET minutes per week for moderate activity | Instance 0</th>\n",
       "      <th>Above moderate/vigorous recommendation | Instance 0_Yes</th>\n",
       "      <th>MET minutes per week for vigorous activity | Instance 0</th>\n",
       "      <th>MET minutes per week for walking | Instance 0</th>\n",
       "      <th>Body mass index (BMI) | Instance 0</th>\n",
       "      <th>Above moderate/vigorous/walking recommendation | Instance 0_No</th>\n",
       "      <th>Summed days activity | Instance 0</th>\n",
       "      <th>Above moderate/vigorous/walking recommendation | Instance 0_Yes</th>\n",
       "      <th>Duration of walks | Instance 0</th>\n",
       "      <th>Frequency of stair climbing in last 4 weeks | Instance 0</th>\n",
       "      <th>IPAQ activity group | Instance 0</th>\n",
       "    </tr>\n",
       "  </thead>\n",
       "  <tbody>\n",
       "    <tr>\n",
       "      <th>9661</th>\n",
       "      <td>0</td>\n",
       "      <td>-7.751365e-01</td>\n",
       "      <td>1</td>\n",
       "      <td>0.054857</td>\n",
       "      <td>-9.524890e-02</td>\n",
       "      <td>-0.370587</td>\n",
       "      <td>0</td>\n",
       "      <td>-1.485091e-01</td>\n",
       "      <td>1</td>\n",
       "      <td>-0.172297</td>\n",
       "      <td>0.561583</td>\n",
       "      <td>1.146015</td>\n",
       "    </tr>\n",
       "    <tr>\n",
       "      <th>14337</th>\n",
       "      <td>0</td>\n",
       "      <td>1.049369e-16</td>\n",
       "      <td>1</td>\n",
       "      <td>0.000000</td>\n",
       "      <td>-1.188451e-16</td>\n",
       "      <td>-0.861866</td>\n",
       "      <td>0</td>\n",
       "      <td>4.007189e-16</td>\n",
       "      <td>1</td>\n",
       "      <td>-0.249444</td>\n",
       "      <td>1.345109</td>\n",
       "      <td>0.000000</td>\n",
       "    </tr>\n",
       "    <tr>\n",
       "      <th>16362</th>\n",
       "      <td>0</td>\n",
       "      <td>1.049369e-16</td>\n",
       "      <td>1</td>\n",
       "      <td>0.000000</td>\n",
       "      <td>-1.188451e-16</td>\n",
       "      <td>-0.743749</td>\n",
       "      <td>0</td>\n",
       "      <td>5.282449e-01</td>\n",
       "      <td>1</td>\n",
       "      <td>0.984904</td>\n",
       "      <td>-0.221943</td>\n",
       "      <td>0.000000</td>\n",
       "    </tr>\n",
       "    <tr>\n",
       "      <th>45710</th>\n",
       "      <td>0</td>\n",
       "      <td>1.049369e-16</td>\n",
       "      <td>1</td>\n",
       "      <td>0.000000</td>\n",
       "      <td>-1.188451e-16</td>\n",
       "      <td>1.525062</td>\n",
       "      <td>0</td>\n",
       "      <td>4.007189e-16</td>\n",
       "      <td>1</td>\n",
       "      <td>0.000000</td>\n",
       "      <td>-0.221943</td>\n",
       "      <td>0.000000</td>\n",
       "    </tr>\n",
       "    <tr>\n",
       "      <th>30123</th>\n",
       "      <td>0</td>\n",
       "      <td>7.386403e-01</td>\n",
       "      <td>1</td>\n",
       "      <td>-0.420897</td>\n",
       "      <td>-5.437139e-01</td>\n",
       "      <td>-0.191266</td>\n",
       "      <td>0</td>\n",
       "      <td>1.430584e+00</td>\n",
       "      <td>1</td>\n",
       "      <td>-0.558031</td>\n",
       "      <td>-1.788996</td>\n",
       "      <td>1.146015</td>\n",
       "    </tr>\n",
       "  </tbody>\n",
       "</table>\n",
       "</div>"
      ],
      "text/plain": [
       "       Above moderate/vigorous recommendation | Instance 0_No  \\\n",
       "9661                                                   0        \n",
       "14337                                                  0        \n",
       "16362                                                  0        \n",
       "45710                                                  0        \n",
       "30123                                                  0        \n",
       "\n",
       "       MET minutes per week for moderate activity | Instance 0  \\\n",
       "9661                                       -7.751365e-01         \n",
       "14337                                       1.049369e-16         \n",
       "16362                                       1.049369e-16         \n",
       "45710                                       1.049369e-16         \n",
       "30123                                       7.386403e-01         \n",
       "\n",
       "       Above moderate/vigorous recommendation | Instance 0_Yes  \\\n",
       "9661                                                   1         \n",
       "14337                                                  1         \n",
       "16362                                                  1         \n",
       "45710                                                  1         \n",
       "30123                                                  1         \n",
       "\n",
       "       MET minutes per week for vigorous activity | Instance 0  \\\n",
       "9661                                            0.054857         \n",
       "14337                                           0.000000         \n",
       "16362                                           0.000000         \n",
       "45710                                           0.000000         \n",
       "30123                                          -0.420897         \n",
       "\n",
       "       MET minutes per week for walking | Instance 0  \\\n",
       "9661                                   -9.524890e-02   \n",
       "14337                                  -1.188451e-16   \n",
       "16362                                  -1.188451e-16   \n",
       "45710                                  -1.188451e-16   \n",
       "30123                                  -5.437139e-01   \n",
       "\n",
       "       Body mass index (BMI) | Instance 0  \\\n",
       "9661                            -0.370587   \n",
       "14337                           -0.861866   \n",
       "16362                           -0.743749   \n",
       "45710                            1.525062   \n",
       "30123                           -0.191266   \n",
       "\n",
       "       Above moderate/vigorous/walking recommendation | Instance 0_No  \\\n",
       "9661                                                   0                \n",
       "14337                                                  0                \n",
       "16362                                                  0                \n",
       "45710                                                  0                \n",
       "30123                                                  0                \n",
       "\n",
       "       Summed days activity | Instance 0  \\\n",
       "9661                       -1.485091e-01   \n",
       "14337                       4.007189e-16   \n",
       "16362                       5.282449e-01   \n",
       "45710                       4.007189e-16   \n",
       "30123                       1.430584e+00   \n",
       "\n",
       "       Above moderate/vigorous/walking recommendation | Instance 0_Yes  \\\n",
       "9661                                                   1                 \n",
       "14337                                                  1                 \n",
       "16362                                                  1                 \n",
       "45710                                                  1                 \n",
       "30123                                                  1                 \n",
       "\n",
       "       Duration of walks | Instance 0  \\\n",
       "9661                        -0.172297   \n",
       "14337                       -0.249444   \n",
       "16362                        0.984904   \n",
       "45710                        0.000000   \n",
       "30123                       -0.558031   \n",
       "\n",
       "       Frequency of stair climbing in last 4 weeks | Instance 0  \\\n",
       "9661                                            0.561583          \n",
       "14337                                           1.345109          \n",
       "16362                                          -0.221943          \n",
       "45710                                          -0.221943          \n",
       "30123                                          -1.788996          \n",
       "\n",
       "       IPAQ activity group | Instance 0  \n",
       "9661                           1.146015  \n",
       "14337                          0.000000  \n",
       "16362                          0.000000  \n",
       "45710                          0.000000  \n",
       "30123                          1.146015  "
      ]
     },
     "execution_count": 4,
     "metadata": {},
     "output_type": "execute_result"
    }
   ],
   "source": [
    "print(X_train.shape)\n",
    "X_train.head()"
   ]
  },
  {
   "cell_type": "markdown",
   "id": "4b77f6dd",
   "metadata": {},
   "source": [
    "# Support vector machine"
   ]
  },
  {
   "cell_type": "code",
   "execution_count": 5,
   "id": "ed59de6a",
   "metadata": {},
   "outputs": [],
   "source": [
    "from time import time\n",
    "from sklearn import svm\n",
    "from accel.training import model_tune, score"
   ]
  },
  {
   "cell_type": "markdown",
   "id": "75a04b18",
   "metadata": {},
   "source": [
    "## Timing\n",
    "Timing how long it takes to fit an SVM to different sizes of data. Keep in mind, there are 69567 training observations."
   ]
  },
  {
   "cell_type": "code",
   "execution_count": 6,
   "id": "5252c579",
   "metadata": {},
   "outputs": [
    {
     "data": {
      "text/plain": [
       "array([ 100, 1100, 2100, 3100, 4100, 5100, 6100, 7100, 8100, 9100])"
      ]
     },
     "execution_count": 6,
     "metadata": {},
     "output_type": "execute_result"
    }
   ],
   "source": [
    "Ns = np.arange(100,10001,1000)\n",
    "Ns"
   ]
  },
  {
   "cell_type": "code",
   "execution_count": 7,
   "id": "bbb32dd8",
   "metadata": {},
   "outputs": [
    {
     "name": "stdout",
     "output_type": "stream",
     "text": [
      "Rep 0 Size:100, 1100, 2100, 3100, 4100, 5100, 6100, 7100, 8100, 9100, \n",
      "Rep 1 Size:100, 1100, 2100, 3100, 4100, 5100, 6100, 7100, 8100, 9100, \n",
      "Rep 2 Size:100, 1100, 2100, 3100, 4100, 5100, 6100, 7100, 8100, 9100, \n",
      "Rep 3 Size:100, 1100, 2100, 3100, 4100, 5100, 6100, 7100, 8100, 9100, \n",
      "Rep 4 Size:100, 1100, 2100, 3100, 4100, 5100, 6100, 7100, 8100, 9100, \n"
     ]
    }
   ],
   "source": [
    "reps = 5\n",
    "times = np.zeros((reps,len(Ns)))\n",
    "\n",
    "for r in range(reps):\n",
    "    print(\"Rep\",r, \"Size:\", end=\"\")\n",
    "    for i in range(len(Ns)):\n",
    "        print(Ns[i],end=\", \")\n",
    "        N = Ns[i]\n",
    "        clf = svm.SVR() # default SVR with an RBF kernel\n",
    "        start = time()\n",
    "        clf.fit(X_train[:N], y_train[:N ]) #train model and time\n",
    "        times[r,i] = time() - start\n",
    "    print()"
   ]
  },
  {
   "cell_type": "code",
   "execution_count": 8,
   "id": "20357001",
   "metadata": {},
   "outputs": [
    {
     "data": {
      "image/png": "[encoded data removed]",
      "text/plain": [
       "<Figure size 432x288 with 1 Axes>"
      ]
     },
     "metadata": {
      "needs_background": "light"
     },
     "output_type": "display_data"
    }
   ],
   "source": [
    "plt.plot(Ns, np.sqrt(np.mean(times,axis=0)), \".\")\n",
    "plt.xlabel(\"No. samples\")\n",
    "plt.ylabel(\"Square root training time ($seconds^{1/2}$)\")\n",
    "plt.show()"
   ]
  },
  {
   "cell_type": "code",
   "execution_count": 9,
   "id": "0291e449",
   "metadata": {},
   "outputs": [
    {
     "data": {
      "text/plain": [
       "0.00022470676505063002"
      ]
     },
     "execution_count": 9,
     "metadata": {},
     "output_type": "execute_result"
    }
   ],
   "source": [
    "root_mean_times = np.sqrt(np.mean(times,axis=0))\n",
    "m = root_mean_times[-1] / Ns[-1]\n",
    "m"
   ]
  },
  {
   "cell_type": "code",
   "execution_count": 10,
   "id": "20927e88",
   "metadata": {},
   "outputs": [
    {
     "data": {
      "text/plain": [
       "2.0448315619607333"
      ]
     },
     "execution_count": 10,
     "metadata": {},
     "output_type": "execute_result"
    }
   ],
   "source": [
    "(m * 9100)"
   ]
  },
  {
   "cell_type": "markdown",
   "id": "3f39b460",
   "metadata": {},
   "source": [
    "As we can see, the training algorithm is quadratic in the number of samples. We can estimate the time it would take on the full data set as follows:\n",
    "\n",
    "$N = \\text{number of samples}$\n",
    "\n",
    "$\\text{Mean time}^{1/2} = 265\\cdot 10^{-4} \\times N$\n",
    "\n",
    "$\\text{Mean time} = ( 265\\cdot 10^{-4} \\times N ) ^2$"
   ]
  },
  {
   "cell_type": "code",
   "execution_count": 11,
   "id": "2cba9118",
   "metadata": {},
   "outputs": [
    {
     "name": "stdout",
     "output_type": "stream",
     "text": [
      "Predicted training time in minutes 4.072748527030175\n"
     ]
    }
   ],
   "source": [
    "N_train = X_train.shape[0]\n",
    "pred_secs = (m * N_train)**2 #answer in seconds\n",
    "print(\"Predicted training time in minutes\", pred_secs / 60) # answer in minutes"
   ]
  },
  {
   "cell_type": "code",
   "execution_count": 7,
   "id": "6feddefc",
   "metadata": {},
   "outputs": [
    {
     "data": {
      "text/plain": [
       "245.68137407302856"
      ]
     },
     "execution_count": 7,
     "metadata": {},
     "output_type": "execute_result"
    }
   ],
   "source": [
    "# fitting the classifier, which might take 5 minutes\n",
    "clf = svm.SVR()\n",
    "start = time()\n",
    "clf.fit(X_train, y_train) #train model and time\n",
    "time() - start"
   ]
  },
  {
   "cell_type": "code",
   "execution_count": 9,
   "id": "e5c6d9cb",
   "metadata": {},
   "outputs": [
    {
     "data": {
      "text/plain": [
       "4.083333333333333"
      ]
     },
     "execution_count": 9,
     "metadata": {},
     "output_type": "execute_result"
    }
   ],
   "source": [
    "245/60 # so actually took a bit longer"
   ]
  },
  {
   "cell_type": "markdown",
   "id": "0cc39c1a",
   "metadata": {},
   "source": [
    "How good is the out the box model?"
   ]
  },
  {
   "cell_type": "code",
   "execution_count": 10,
   "id": "ee3a1920",
   "metadata": {},
   "outputs": [],
   "source": [
    "from accel.training import score"
   ]
  },
  {
   "cell_type": "code",
   "execution_count": 11,
   "id": "79804657",
   "metadata": {},
   "outputs": [],
   "source": [
    "y_pred = clf.predict(X_val)"
   ]
  },
  {
   "cell_type": "code",
   "execution_count": 12,
   "id": "bce351fa",
   "metadata": {},
   "outputs": [
    {
     "data": {
      "text/plain": [
       "[<matplotlib.lines.Line2D at 0x7f8949a1afa0>]"
      ]
     },
     "execution_count": 12,
     "metadata": {},
     "output_type": "execute_result"
    },
    {
     "data": {
      "image/png": "[encoded data removed]",
      "text/plain": [
       "<Figure size 432x288 with 1 Axes>"
      ]
     },
     "metadata": {
      "needs_background": "light"
     },
     "output_type": "display_data"
    }
   ],
   "source": [
    "plt.plot(y_val,y_pred, \".\")"
   ]
  },
  {
   "cell_type": "code",
   "execution_count": 13,
   "id": "b4d6f0f3",
   "metadata": {},
   "outputs": [
    {
     "name": "stdout",
     "output_type": "stream",
     "text": [
      "MSE is:  77.24804483636107\n",
      "R2 is:  0.09270852412165731\n",
      "Explained variance is: 0.09581020080377112\n"
     ]
    }
   ],
   "source": [
    "score(y_val, y_pred)"
   ]
  },
  {
   "cell_type": "markdown",
   "id": "12c11260",
   "metadata": {},
   "source": [
    "## Linear SVM"
   ]
  },
  {
   "cell_type": "code",
   "execution_count": 68,
   "id": "13abcb4c",
   "metadata": {},
   "outputs": [
    {
     "data": {
      "text/plain": [
       "0.0675652027130127"
      ]
     },
     "execution_count": 68,
     "metadata": {},
     "output_type": "execute_result"
    }
   ],
   "source": [
    "clf = svm.LinearSVR(loss='squared_epsilon_insensitive', dual=False)\n",
    "start = time()\n",
    "clf.fit(X_train, y_train) #train model and time\n",
    "time() - start"
   ]
  },
  {
   "cell_type": "code",
   "execution_count": 69,
   "id": "5c07a8f1",
   "metadata": {},
   "outputs": [],
   "source": [
    "y_pred = clf.predict(X_val)"
   ]
  },
  {
   "cell_type": "code",
   "execution_count": 70,
   "id": "10ecc92c",
   "metadata": {},
   "outputs": [
    {
     "data": {
      "text/plain": [
       "[<matplotlib.lines.Line2D at 0x7f8944683b50>]"
      ]
     },
     "execution_count": 70,
     "metadata": {},
     "output_type": "execute_result"
    },
    {
     "data": {
      "image/png": "[encoded data removed]",
      "text/plain": [
       "<Figure size 432x288 with 1 Axes>"
      ]
     },
     "metadata": {
      "needs_background": "light"
     },
     "output_type": "display_data"
    }
   ],
   "source": [
    "plt.plot(y_val,y_pred, \".\")"
   ]
  },
  {
   "cell_type": "code",
   "execution_count": 71,
   "id": "4760dcc5",
   "metadata": {},
   "outputs": [
    {
     "name": "stdout",
     "output_type": "stream",
     "text": [
      "MSE is:  77.85987314424546\n",
      "R2 is:  0.08552249618243268\n",
      "Explained variance is: 0.08561683861145064\n"
     ]
    }
   ],
   "source": [
    "score(y_val, y_pred)"
   ]
  },
  {
   "cell_type": "markdown",
   "id": "0edc77f5",
   "metadata": {},
   "source": [
    "# Hyper-parameter tuning\n",
    "We perform hyper-parameter tuning on the linear SVM since it is less time-consuming to fit"
   ]
  },
  {
   "cell_type": "code",
   "execution_count": 19,
   "id": "bfcee929",
   "metadata": {},
   "outputs": [],
   "source": [
    "from accel.training import model_tune"
   ]
  },
  {
   "cell_type": "code",
   "execution_count": 35,
   "id": "ff2a4a0f",
   "metadata": {},
   "outputs": [
    {
     "data": {
      "text/plain": [
       "9.239868146161173"
      ]
     },
     "execution_count": 35,
     "metadata": {},
     "output_type": "execute_result"
    }
   ],
   "source": [
    "y_train.std()"
   ]
  },
  {
   "cell_type": "code",
   "execution_count": 37,
   "id": "8ab42bea",
   "metadata": {},
   "outputs": [
    {
     "data": {
      "text/plain": [
       "array([1.00000000e-10, 1.29154967e-09, 1.66810054e-08, 2.15443469e-07,\n",
       "       2.78255940e-06, 3.59381366e-05, 4.64158883e-04, 5.99484250e-03,\n",
       "       7.74263683e-02, 1.00000000e+00])"
      ]
     },
     "execution_count": 37,
     "metadata": {},
     "output_type": "execute_result"
    }
   ],
   "source": [
    "np.geomspace(1e-10,1,10)"
   ]
  },
  {
   "cell_type": "code",
   "execution_count": 39,
   "id": "1d76f59c",
   "metadata": {},
   "outputs": [],
   "source": [
    "# define lists of params interested in\n",
    "\n",
    "epsilon = np.geomspace(1e-10,1,10) # size of epsilon \n",
    "C = np.geomspace(1e-3,1,10) # Small C -> big regularisation.\n",
    "\n",
    "params = {\n",
    "    \"epsilon\" : epsilon,\n",
    "    \"C\"      : C\n",
    "}"
   ]
  },
  {
   "cell_type": "code",
   "execution_count": 41,
   "id": "096c3df3",
   "metadata": {
    "collapsed": true
   },
   "outputs": [
    {
     "name": "stdout",
     "output_type": "stream",
     "text": [
      "Fitting 5 folds for each of 1 candidates, totalling 5 fits\n",
      "Fitting 5 folds for each of 1 candidates, totalling 5 fits\n",
      "Fitting 5 folds for each of 1 candidates, totalling 5 fits\n",
      "Fitting 5 folds for each of 1 candidates, totalling 5 fits\n",
      "Fitting 5 folds for each of 1 candidates, totalling 5 fits\n",
      "Fitting 5 folds for each of 1 candidates, totalling 5 fits\n",
      "Fitting 5 folds for each of 1 candidates, totalling 5 fits\n",
      "Fitting 5 folds for each of 1 candidates, totalling 5 fits\n",
      "Fitting 5 folds for each of 1 candidates, totalling 5 fits\n",
      "Fitting 5 folds for each of 1 candidates, totalling 5 fits\n"
     ]
    },
    {
     "name": "stderr",
     "output_type": "stream",
     "text": [
      "/cdthome/pkd542/.conda/envs/accel/lib/python3.9/site-packages/skopt/optimizer/optimizer.py:449: UserWarning: The objective has been evaluated at this point before.\n",
      "  warnings.warn(\"The objective has been evaluated \"\n"
     ]
    },
    {
     "name": "stdout",
     "output_type": "stream",
     "text": [
      "Fitting 5 folds for each of 1 candidates, totalling 5 fits\n",
      "Fitting 5 folds for each of 1 candidates, totalling 5 fits\n",
      "Fitting 5 folds for each of 1 candidates, totalling 5 fits\n",
      "Fitting 5 folds for each of 1 candidates, totalling 5 fits\n",
      "Fitting 5 folds for each of 1 candidates, totalling 5 fits\n",
      "Fitting 5 folds for each of 1 candidates, totalling 5 fits\n",
      "Fitting 5 folds for each of 1 candidates, totalling 5 fits\n",
      "Fitting 5 folds for each of 1 candidates, totalling 5 fits\n",
      "Fitting 5 folds for each of 1 candidates, totalling 5 fits\n"
     ]
    },
    {
     "name": "stderr",
     "output_type": "stream",
     "text": [
      "/cdthome/pkd542/.conda/envs/accel/lib/python3.9/site-packages/skopt/optimizer/optimizer.py:449: UserWarning: The objective has been evaluated at this point before.\n",
      "  warnings.warn(\"The objective has been evaluated \"\n"
     ]
    },
    {
     "name": "stdout",
     "output_type": "stream",
     "text": [
      "Fitting 5 folds for each of 1 candidates, totalling 5 fits\n",
      "Best parameter combo: OrderedDict([('C', 0.21544346900318823), ('epsilon', 3.5938136638046256e-05)])\n",
      "Best validation MSE: 0.09604989339596463\n"
     ]
    }
   ],
   "source": [
    "clf = model_tune(svm.LinearSVR(loss='squared_epsilon_insensitive', dual=False, random_state=42), \n",
    "                 params, X_train, y_train, 20)"
   ]
  },
  {
   "cell_type": "code",
   "execution_count": 46,
   "id": "988d2579",
   "metadata": {},
   "outputs": [
    {
     "data": {
      "text/plain": [
       "LinearSVR(C=0.21544346900318823, dual=False, epsilon=3.5938136638046256e-05,\n",
       "          loss='squared_epsilon_insensitive', random_state=42)"
      ]
     },
     "execution_count": 46,
     "metadata": {},
     "output_type": "execute_result"
    }
   ],
   "source": [
    "clf"
   ]
  },
  {
   "cell_type": "code",
   "execution_count": 42,
   "id": "79472a43",
   "metadata": {},
   "outputs": [
    {
     "name": "stdout",
     "output_type": "stream",
     "text": [
      "MSE is:  77.86003246728633\n",
      "R2 is:  0.0855206249061149\n",
      "Explained variance is: 0.08561567962399319\n"
     ]
    },
    {
     "data": {
      "image/png": "[encoded data removed]",
      "text/plain": [
       "<Figure size 432x288 with 1 Axes>"
      ]
     },
     "metadata": {
      "needs_background": "light"
     },
     "output_type": "display_data"
    }
   ],
   "source": [
    "y_pred = clf.predict(X_val)\n",
    "plt.plot(y_val,y_pred, \".\")\n",
    "score(y_val, y_pred)"
   ]
  },
  {
   "cell_type": "markdown",
   "id": "1e8d5beb",
   "metadata": {},
   "source": [
    "## Thoughts\n",
    "It seems more feasible to train the linear SVM on the full data-set, whereas the SVMs with other kernels would seem to take a lot longer. Next steps should include seeing whether including additional variables improves the model performance."
   ]
  },
  {
   "cell_type": "code",
   "execution_count": 72,
   "id": "47200f9b",
   "metadata": {},
   "outputs": [],
   "source": [
    "from accel.constants import DIETARY, SOCIO"
   ]
  },
  {
   "cell_type": "code",
   "execution_count": 73,
   "id": "8696be08",
   "metadata": {},
   "outputs": [
    {
     "name": "stdout",
     "output_type": "stream",
     "text": [
      "3\n"
     ]
    }
   ],
   "source": [
    "X_train, X_val, X_test, y_train, y_val, y_test, means_modes = prep_data(DATA_DIR / \"shared/reduced-cohort.csv\",\n",
    "                                                                        [PHYSICAL, DIETARY, SOCIO],\n",
    "                                                                        normalise = True,\n",
    "                                                                        one_hot = True)"
   ]
  },
  {
   "cell_type": "code",
   "execution_count": 74,
   "id": "d1efeb88",
   "metadata": {},
   "outputs": [
    {
     "data": {
      "text/plain": [
       "1.0561130046844482"
      ]
     },
     "execution_count": 74,
     "metadata": {},
     "output_type": "execute_result"
    }
   ],
   "source": [
    "clf = svm.LinearSVR(loss='squared_epsilon_insensitive', dual=False)\n",
    "start = time()\n",
    "clf.fit(X_train, y_train) #train model and time\n",
    "time() - start"
   ]
  },
  {
   "cell_type": "code",
   "execution_count": 75,
   "id": "12a66e6a",
   "metadata": {
    "collapsed": true
   },
   "outputs": [
    {
     "name": "stdout",
     "output_type": "stream",
     "text": [
      "Fitting 5 folds for each of 1 candidates, totalling 5 fits\n",
      "Fitting 5 folds for each of 1 candidates, totalling 5 fits\n",
      "Fitting 5 folds for each of 1 candidates, totalling 5 fits\n",
      "Fitting 5 folds for each of 1 candidates, totalling 5 fits\n",
      "Fitting 5 folds for each of 1 candidates, totalling 5 fits\n",
      "Fitting 5 folds for each of 1 candidates, totalling 5 fits\n",
      "Fitting 5 folds for each of 1 candidates, totalling 5 fits\n",
      "Fitting 5 folds for each of 1 candidates, totalling 5 fits\n",
      "Fitting 5 folds for each of 1 candidates, totalling 5 fits\n",
      "Fitting 5 folds for each of 1 candidates, totalling 5 fits\n",
      "Fitting 5 folds for each of 1 candidates, totalling 5 fits\n",
      "Fitting 5 folds for each of 1 candidates, totalling 5 fits\n",
      "Fitting 5 folds for each of 1 candidates, totalling 5 fits\n",
      "Fitting 5 folds for each of 1 candidates, totalling 5 fits\n",
      "Fitting 5 folds for each of 1 candidates, totalling 5 fits\n"
     ]
    },
    {
     "name": "stderr",
     "output_type": "stream",
     "text": [
      "/cdthome/pkd542/.conda/envs/accel/lib/python3.9/site-packages/skopt/optimizer/optimizer.py:449: UserWarning: The objective has been evaluated at this point before.\n",
      "  warnings.warn(\"The objective has been evaluated \"\n"
     ]
    },
    {
     "name": "stdout",
     "output_type": "stream",
     "text": [
      "Fitting 5 folds for each of 1 candidates, totalling 5 fits\n",
      "Fitting 5 folds for each of 1 candidates, totalling 5 fits\n"
     ]
    },
    {
     "name": "stderr",
     "output_type": "stream",
     "text": [
      "/cdthome/pkd542/.conda/envs/accel/lib/python3.9/site-packages/skopt/optimizer/optimizer.py:449: UserWarning: The objective has been evaluated at this point before.\n",
      "  warnings.warn(\"The objective has been evaluated \"\n"
     ]
    },
    {
     "name": "stdout",
     "output_type": "stream",
     "text": [
      "Fitting 5 folds for each of 1 candidates, totalling 5 fits\n",
      "Fitting 5 folds for each of 1 candidates, totalling 5 fits\n",
      "Fitting 5 folds for each of 1 candidates, totalling 5 fits\n",
      "Best parameter combo: OrderedDict([('C', 0.01), ('epsilon', 2.782559402207126e-06)])\n",
      "Best validation MSE: 0.11557560414555304\n"
     ]
    }
   ],
   "source": [
    "clf = model_tune(svm.LinearSVR(loss='squared_epsilon_insensitive', dual=False, random_state=42), \n",
    "                 params, X_train, y_train, 20)"
   ]
  },
  {
   "cell_type": "code",
   "execution_count": 77,
   "id": "a1d77411",
   "metadata": {},
   "outputs": [
    {
     "name": "stdout",
     "output_type": "stream",
     "text": [
      "MSE is:  77.64566406779004\n",
      "R2 is:  0.10661815595918955\n",
      "Explained variance is: 0.10671591345119447\n"
     ]
    },
    {
     "data": {
      "image/png": "[encoded data removed]",
      "text/plain": [
       "<Figure size 432x288 with 1 Axes>"
      ]
     },
     "metadata": {
      "needs_background": "light"
     },
     "output_type": "display_data"
    }
   ],
   "source": [
    "y_pred = clf.predict(X_val)\n",
    "plt.plot(y_val,y_pred, \".\")\n",
    "score(y_val, y_pred)"
   ]
  }
 ],
 "metadata": {
  "kernelspec": {
   "display_name": "Python 3 (ipykernel)",
   "language": "python",
   "name": "python3"
  },
  "language_info": {
   "codemirror_mode": {
    "name": "ipython",
    "version": 3
   },
   "file_extension": ".py",
   "mimetype": "text/x-python",
   "name": "python",
   "nbconvert_exporter": "python",
   "pygments_lexer": "ipython3",
   "version": "3.9.7"
  }
 },
 "nbformat": 4,
 "nbformat_minor": 5
}
