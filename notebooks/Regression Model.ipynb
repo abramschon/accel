{
 "cells": [
  {
   "cell_type": "code",
   "execution_count": 14,
   "id": "69bac5c0",
   "metadata": {},
   "outputs": [],
   "source": [
    "import os\n",
    "from glob import glob\n",
    "import numpy as np\n",
    "import pandas as pd\n",
    "import matplotlib.pyplot as plt\n",
    "from sklearn.linear_model import ElasticNet\n",
    "from sklearn import decomposition\n",
    "from sklearn import preprocessing\n",
    "from sklearn import manifold\n",
    "from sklearn import metrics\n",
    "from tqdm.auto import tqdm\n",
    "from joblib import Parallel, delayed\n",
    "from sklearn.model_selection import train_test_split\n",
    "from sklearn.model_selection import GridSearchCV\n",
    "from skopt import BayesSearchCV\n",
    "from sklearn.preprocessing import OneHotEncoder\n",
    "from sklearn.metrics import r2_score, mean_squared_error, explained_variance_score\n",
    "\n",
    "import warnings\n",
    "warnings.filterwarnings('ignore')\n",
    "\n",
    "# For reproducibility\n",
    "np.random.seed(42)"
   ]
  },
  {
   "cell_type": "code",
   "execution_count": 15,
   "id": "3049a1ff",
   "metadata": {},
   "outputs": [],
   "source": [
    "def load_data(datafile):\n",
    "    \"\"\" Utility function to load the data files with correct dtypes \"\"\"\n",
    "    data = pd.read_csv(\n",
    "        datafile\n",
    "    )\n",
    "    return data\n",
    "\n",
    "def dataset_split(X, Y, ratio):\n",
    "    \"\"\" Function to split the dataset into train and test \"\"\"\n",
    "    X_train, X_test, y_train, y_test = train_test_split(X, Y, test_size=ratio)\n",
    "    return X_train, X_test, y_train, y_test\n",
    "\n",
    "def score(y_true,y_pred): \n",
    "    \"\"\" Function to print the metrics of interest of the model \"\"\"\n",
    "    mse = mean_squared_error(y_true, y_pred) #set score here and not below if using MSE in GridCV\n",
    "    r2 = r2_score(y_true, y_pred)\n",
    "    ev = explained_variance_score(y_true, y_pred)\n",
    "    print(\"MSE is: \", mse)\n",
    "    print(\"R2 is: \", r2)\n",
    "    print(\"Explained variance is:\", ev)\n",
    "    \n",
    "def model_tune(model_name, params, X_train, y_train):\n",
    "    if model_name == 'knn':\n",
    "        model = KNeighborsRegressor(algorithm='auto')\n",
    "    elif model_name == 'rf':\n",
    "        model = RandomForestRegressor()\n",
    "    elif model_name == 'regression':\n",
    "        model = ElasticNet()\n",
    "    else:\n",
    "        print('Model unrecognised')\n",
    "    # Tune the model with Bayesian optimisation\n",
    "    opt = BayesSearchCV(model, param_grid, n_iter=30, cv=5, verbose=1)\n",
    "    opt.fit(X_train, y_train)\n",
    "    # With the following parameter combination being optimal\n",
    "    print(\"Best parameter combo:\", opt.best_params_)\n",
    "    # Having the following score\n",
    "    print(\"Best validation MSE:\", opt.best_score_)\n",
    "    return opt.best_estimator_"
   ]
  },
  {
   "cell_type": "markdown",
   "id": "26f34302",
   "metadata": {},
   "source": [
    "# Load the data"
   ]
  },
  {
   "cell_type": "code",
   "execution_count": 37,
   "id": "759517a2",
   "metadata": {},
   "outputs": [
    {
     "data": {
      "text/html": [
       "<div>\n",
       "<style scoped>\n",
       "    .dataframe tbody tr th:only-of-type {\n",
       "        vertical-align: middle;\n",
       "    }\n",
       "\n",
       "    .dataframe tbody tr th {\n",
       "        vertical-align: top;\n",
       "    }\n",
       "\n",
       "    .dataframe thead th {\n",
       "        text-align: right;\n",
       "    }\n",
       "</style>\n",
       "<table border=\"1\" class=\"dataframe\">\n",
       "  <thead>\n",
       "    <tr style=\"text-align: right;\">\n",
       "      <th></th>\n",
       "      <th>age_entry_years</th>\n",
       "      <th>sex</th>\n",
       "      <th>smoking</th>\n",
       "      <th>BMI</th>\n",
       "      <th>inc_ihd</th>\n",
       "    </tr>\n",
       "  </thead>\n",
       "  <tbody>\n",
       "  </tbody>\n",
       "</table>\n",
       "</div>"
      ],
      "text/plain": [
       "Empty DataFrame\n",
       "Columns: [age_entry_years, sex, smoking, BMI, inc_ihd]\n",
       "Index: []"
      ]
     },
     "execution_count": 37,
     "metadata": {},
     "output_type": "execute_result"
    }
   ],
   "source": [
    "# Path to dataset\n",
    "PATH = '/cdtshared/wearables/health_data_files/'\n",
    "\n",
    "# Features from biobank\n",
    "features = load_data(PATH+'dataset-with-preprocessing-done.csv')\n",
    "\n",
    "features_of_interest = ['age_entry_years', 'sex', 'smoking', 'BMI', 'inc_ihd']\n",
    "categorical_features = ['sex', 'smoking']\n",
    "numeric_features = list(set(features_of_interest) - set(categorical_features))\n",
    "Y = features['acc.overall.avg']\n",
    "X = features[features_of_interest]\n",
    "\n",
    "#Check for null values\n",
    "X[X.isnull().any(axis=1)]"
   ]
  },
  {
   "cell_type": "code",
   "execution_count": 47,
   "id": "39149e44",
   "metadata": {},
   "outputs": [
    {
     "data": {
      "image/png": "[encoded data removed]",
      "text/plain": [
       "<Figure size 1368x1080 with 2 Axes>"
      ]
     },
     "metadata": {
      "needs_background": "light"
     },
     "output_type": "display_data"
    }
   ],
   "source": [
    "# There is no significant correlation between the features and the outcome\n",
    "\n",
    "f = plt.figure(figsize=(19, 15))\n",
    "plt.matshow(features[['age_entry_years', 'sex', 'smoking', 'BMI', 'inc_ihd', 'acc.overall.avg']].corr(), fignum=f.number)\n",
    "plt.xticks(range(features[['age_entry_years', 'sex', 'smoking', 'BMI', 'inc_ihd', 'acc.overall.avg']].select_dtypes(['number']).shape[1]), features[['age_entry_years', 'sex', 'smoking', 'BMI', 'inc_ihd', 'acc.overall.avg']].select_dtypes(['number']).columns, fontsize=14, rotation=45)\n",
    "plt.yticks(range(features[['age_entry_years', 'sex', 'smoking', 'BMI', 'inc_ihd', 'acc.overall.avg']].select_dtypes(['number']).shape[1]), features[['age_entry_years', 'sex', 'smoking', 'BMI', 'inc_ihd', 'acc.overall.avg']].select_dtypes(['number']).columns, fontsize=14)\n",
    "cb = plt.colorbar()\n",
    "cb.ax.tick_params(labelsize=14)\n",
    "plt.title('Correlation Matrix', fontsize=16);"
   ]
  },
  {
   "cell_type": "markdown",
   "id": "afbc1176",
   "metadata": {},
   "source": [
    "# Data preparation for training"
   ]
  },
  {
   "cell_type": "code",
   "execution_count": 17,
   "id": "020973b9",
   "metadata": {},
   "outputs": [],
   "source": [
    "# Encode the categorical variables\n",
    "X_enc = pd.get_dummies(X, columns=categorical_features)"
   ]
  },
  {
   "cell_type": "code",
   "execution_count": 18,
   "id": "d06a6fe6",
   "metadata": {},
   "outputs": [],
   "source": [
    "Y = Y.to_numpy()"
   ]
  },
  {
   "cell_type": "code",
   "execution_count": 19,
   "id": "9d27a08b",
   "metadata": {},
   "outputs": [
    {
     "name": "stdout",
     "output_type": "stream",
     "text": [
      "Shape of training set: (72994, 8)\n",
      "Shape of test set: (18249, 8)\n"
     ]
    }
   ],
   "source": [
    "# Split into training and testing, 80:20\n",
    "X_train, X_test, y_train, y_test = train_test_split(X_enc, Y, test_size=0.2)\n",
    "\n",
    "print(\"Shape of training set:\", X_train.shape)\n",
    "print(\"Shape of test set:\", X_test.shape)"
   ]
  },
  {
   "cell_type": "markdown",
   "id": "41e9717a",
   "metadata": {},
   "source": [
    "# Model Tuning"
   ]
  },
  {
   "cell_type": "code",
   "execution_count": 20,
   "id": "184002e4",
   "metadata": {},
   "outputs": [],
   "source": [
    "# Define the hyperparameters you want to sweep through (important it is manual for generalisation)\n",
    "# C for regularisation if doing regression\n",
    "# kernel if doing SVM for example\n",
    "\n",
    "# In this case we are tuning for ElasticNet hyperparameters\n",
    "# Regularisation constant\n",
    "alpha = [0.0001, 0.001, 0.01, 0.1, 1, 10, 100]\n",
    "# Relative ratio of l1 vs l2 regularisation\n",
    "l1_ratio = np.arange(0.0, 1.0, 0.1)\n",
    "\n",
    "# Create the grid\n",
    "param_grid = {'alpha': alpha,\n",
    "               'l1_ratio': l1_ratio}"
   ]
  },
  {
   "cell_type": "code",
   "execution_count": 21,
   "id": "424526bf",
   "metadata": {},
   "outputs": [],
   "source": [
    "# Define the model you are interested in\n",
    "model = ElasticNet()"
   ]
  },
  {
   "cell_type": "code",
   "execution_count": 22,
   "id": "c509987b",
   "metadata": {},
   "outputs": [
    {
     "data": {
      "text/plain": [
       "GridSearchCV(cv=5, estimator=ElasticNet(),\n",
       "             param_grid={'alpha': [0.0001, 0.001, 0.01, 0.1, 1, 10, 100],\n",
       "                         'l1_ratio': array([0. , 0.1, 0.2, 0.3, 0.4, 0.5, 0.6, 0.7, 0.8, 0.9])})"
      ]
     },
     "execution_count": 22,
     "metadata": {},
     "output_type": "execute_result"
    }
   ],
   "source": [
    "# Skip to bayesian below if taking too long to compute\n",
    "clf = GridSearchCV(model, param_grid, cv=5)\n",
    "clf.fit(X_train, y_train)"
   ]
  },
  {
   "cell_type": "code",
   "execution_count": 23,
   "id": "17b3e029",
   "metadata": {},
   "outputs": [
    {
     "name": "stdout",
     "output_type": "stream",
     "text": [
      "Best parameter combo: {'alpha': 0.001, 'l1_ratio': 0.0}\n",
      "Best validation MSE: 0.13922009152681952\n"
     ]
    }
   ],
   "source": [
    "# Get the best model\n",
    "model_best = clf.best_estimator_\n",
    "# With the following parameter combination being optimal\n",
    "print(\"Best parameter combo:\", clf.best_params_)\n",
    "# Having the following score\n",
    "print(\"Best validation MSE:\", clf.best_score_)"
   ]
  },
  {
   "cell_type": "code",
   "execution_count": 51,
   "id": "1d3f343f",
   "metadata": {},
   "outputs": [
    {
     "name": "stdout",
     "output_type": "stream",
     "text": [
      "MSE is:  56.23990444877787\n",
      "R2 is:  0.13764092697751196\n",
      "Explained variance is: 0.13777113826368415\n"
     ]
    }
   ],
   "source": [
    "# Get the test set performance\n",
    "score(y_test, model_best.predict(X_test))"
   ]
  },
  {
   "cell_type": "code",
   "execution_count": 25,
   "id": "f770abce",
   "metadata": {},
   "outputs": [
    {
     "name": "stdout",
     "output_type": "stream",
     "text": [
      "Fitting 5 folds for each of 1 candidates, totalling 5 fits\n",
      "Fitting 5 folds for each of 1 candidates, totalling 5 fits\n",
      "Fitting 5 folds for each of 1 candidates, totalling 5 fits\n",
      "Fitting 5 folds for each of 1 candidates, totalling 5 fits\n",
      "Fitting 5 folds for each of 1 candidates, totalling 5 fits\n",
      "Fitting 5 folds for each of 1 candidates, totalling 5 fits\n",
      "Fitting 5 folds for each of 1 candidates, totalling 5 fits\n",
      "Fitting 5 folds for each of 1 candidates, totalling 5 fits\n",
      "Fitting 5 folds for each of 1 candidates, totalling 5 fits\n",
      "Fitting 5 folds for each of 1 candidates, totalling 5 fits\n",
      "Fitting 5 folds for each of 1 candidates, totalling 5 fits\n",
      "Fitting 5 folds for each of 1 candidates, totalling 5 fits\n",
      "Fitting 5 folds for each of 1 candidates, totalling 5 fits\n",
      "Fitting 5 folds for each of 1 candidates, totalling 5 fits\n",
      "Fitting 5 folds for each of 1 candidates, totalling 5 fits\n",
      "Fitting 5 folds for each of 1 candidates, totalling 5 fits\n",
      "Fitting 5 folds for each of 1 candidates, totalling 5 fits\n",
      "Fitting 5 folds for each of 1 candidates, totalling 5 fits\n",
      "Fitting 5 folds for each of 1 candidates, totalling 5 fits\n",
      "Fitting 5 folds for each of 1 candidates, totalling 5 fits\n",
      "Fitting 5 folds for each of 1 candidates, totalling 5 fits\n",
      "Fitting 5 folds for each of 1 candidates, totalling 5 fits\n",
      "Fitting 5 folds for each of 1 candidates, totalling 5 fits\n",
      "Fitting 5 folds for each of 1 candidates, totalling 5 fits\n",
      "Fitting 5 folds for each of 1 candidates, totalling 5 fits\n",
      "Fitting 5 folds for each of 1 candidates, totalling 5 fits\n",
      "Fitting 5 folds for each of 1 candidates, totalling 5 fits\n",
      "Fitting 5 folds for each of 1 candidates, totalling 5 fits\n",
      "Fitting 5 folds for each of 1 candidates, totalling 5 fits\n",
      "Fitting 5 folds for each of 1 candidates, totalling 5 fits\n"
     ]
    },
    {
     "data": {
      "text/plain": [
       "BayesSearchCV(cv=5, estimator=ElasticNet(), n_iter=30,\n",
       "              search_spaces={'alpha': [0.0001, 0.001, 0.01, 0.1, 1, 10, 100],\n",
       "                             'l1_ratio': array([0. , 0.1, 0.2, 0.3, 0.4, 0.5, 0.6, 0.7, 0.8, 0.9])},\n",
       "              verbose=1)"
      ]
     },
     "execution_count": 25,
     "metadata": {},
     "output_type": "execute_result"
    }
   ],
   "source": [
    "# Try with Bayesian optimisation for faster computation of tuning\n",
    "opt = BayesSearchCV(model, param_grid, n_iter=30, cv=5, verbose=1)\n",
    "opt.fit(X_train, y_train)"
   ]
  },
  {
   "cell_type": "code",
   "execution_count": 26,
   "id": "5f9f5fcf",
   "metadata": {},
   "outputs": [
    {
     "name": "stdout",
     "output_type": "stream",
     "text": [
      "Best parameter combo: OrderedDict([('alpha', 0.001), ('l1_ratio', 0.0)])\n",
      "Best validation MSE: 1.3922009152681952e-01\n"
     ]
    }
   ],
   "source": [
    "# Get the best model\n",
    "model_best = opt.best_estimator_\n",
    "# With the following parameter combination being optimal\n",
    "print(\"Best parameter combo:\", opt.best_params_)\n",
    "# Having the following score\n",
    "print(\"Best validation MSE:\", opt.best_score_)"
   ]
  },
  {
   "cell_type": "markdown",
   "id": "9d447718",
   "metadata": {},
   "source": [
    "Best parameters: <br>\n",
    "**alpha**:0.001 <br>\n",
    "**l1_ratio**: 0 <br>"
   ]
  },
  {
   "cell_type": "code",
   "execution_count": 49,
   "id": "8715abce",
   "metadata": {},
   "outputs": [
    {
     "name": "stdout",
     "output_type": "stream",
     "text": [
      "MSE is:  58.96746034066791\n",
      "R2 is:  0.13950907105964772\n",
      "Explained variance is: 0.13950907105964772\n"
     ]
    }
   ],
   "source": [
    "score(y_train, model_best.predict(X_train))"
   ]
  },
  {
   "cell_type": "code",
   "execution_count": 50,
   "id": "637bf940",
   "metadata": {},
   "outputs": [
    {
     "name": "stdout",
     "output_type": "stream",
     "text": [
      "MSE is:  56.23990444877787\n",
      "R2 is:  0.13764092697751196\n",
      "Explained variance is: 0.13777113826368415\n"
     ]
    }
   ],
   "source": [
    "# Get the test set performance\n",
    "score(y_test, model_best.predict(X_test))"
   ]
  }
 ],
 "metadata": {
  "kernelspec": {
   "display_name": "Python 3 (ipykernel)",
   "language": "python",
   "name": "python3"
  },
  "language_info": {
   "codemirror_mode": {
    "name": "ipython",
    "version": 3
   },
   "file_extension": ".py",
   "mimetype": "text/x-python",
   "name": "python",
   "nbconvert_exporter": "python",
   "pygments_lexer": "ipython3",
   "version": "3.9.7"
  }
 },
 "nbformat": 4,
 "nbformat_minor": 5
}
