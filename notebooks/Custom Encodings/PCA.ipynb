{
 "cells": [
  {
   "cell_type": "code",
   "execution_count": 1,
   "id": "cf3da050",
   "metadata": {},
   "outputs": [],
   "source": [
    "import os\n",
    "from glob import glob\n",
    "import numpy as np\n",
    "import pandas as pd\n",
    "from sklearn.decomposition import PCA\n",
    "from sklearn.preprocessing import StandardScaler\n",
    "from sklearn.model_selection import train_test_split\n",
    "import pickle\n",
    "import matplotlib.pyplot as plt\n",
    "%matplotlib inline\n",
    "\n",
    "\n",
    "import warnings\n",
    "warnings.filterwarnings('ignore')\n",
    "\n",
    "# For reproducibility\n",
    "np.random.seed(42)"
   ]
  },
  {
   "cell_type": "code",
   "execution_count": 2,
   "id": "84ce635a",
   "metadata": {},
   "outputs": [
    {
     "name": "stdout",
     "output_type": "stream",
     "text": [
      "/cdthome/xqe353\n"
     ]
    }
   ],
   "source": [
    "%cd ..\n",
    "from accel.read_data import prep_data"
   ]
  },
  {
   "cell_type": "code",
   "execution_count": 3,
   "id": "57e39ca2",
   "metadata": {},
   "outputs": [],
   "source": [
    "X_train, X_val, X_test, y_train, y_val, y_test, means_modes = prep_data(\"/cdtshared/wearables/students/group5/eliminated-missing-participants.csv\",\n",
    "                                                                        normalise = True,\n",
    "                                                                        one_hot = True)"
   ]
  },
  {
   "cell_type": "code",
   "execution_count": 7,
   "id": "a4ab2177",
   "metadata": {},
   "outputs": [],
   "source": [
    "pca = PCA(n_components=100)\n",
    "pca.fit(X_train)\n",
    "X_pca_train = pca.transform(X_train)\n",
    "X_pca_val = pca.transform(X_val)\n",
    "X_pca_test = pca.transform(X_test)"
   ]
  },
  {
   "cell_type": "code",
   "execution_count": 8,
   "id": "b015a02d",
   "metadata": {},
   "outputs": [
    {
     "data": {
      "image/png": "[encoded data removed]",
      "text/plain": [
       "<Figure size 432x288 with 1 Axes>"
      ]
     },
     "metadata": {
      "needs_background": "light"
     },
     "output_type": "display_data"
    }
   ],
   "source": [
    "# Scree plot\n",
    "PC_values = np.arange(pca.n_components_) + 1\n",
    "plt.plot(PC_values, pca.explained_variance_ratio_, 'ro-', linewidth=2)\n",
    "plt.title('Scree Plot')\n",
    "plt.xlabel('Principal Component')\n",
    "plt.ylabel('Proportion of Variance Explained')\n",
    "plt.show()"
   ]
  },
  {
   "cell_type": "code",
   "execution_count": 9,
   "id": "a74be773",
   "metadata": {},
   "outputs": [],
   "source": [
    "# Select top 60 principal components\n",
    "pca = PCA(n_components=60)\n",
    "pca.fit(X_train)\n",
    "X_pca_train = pca.transform(X_train)\n",
    "X_pca_val = pca.transform(X_val)\n",
    "X_pca_test = pca.transform(X_test)"
   ]
  },
  {
   "cell_type": "code",
   "execution_count": 10,
   "id": "92bd8775",
   "metadata": {},
   "outputs": [],
   "source": [
    "with open('/cdtshared/wearables/students/group5/XtrainPCAELLIE.pkl','wb') as f:\n",
    "    pickle.dump(X_pca_train, f)\n",
    "with open('/cdtshared/wearables/students/group5/XvalPCAELLIE.pkl','wb') as f:\n",
    "    pickle.dump(X_pca_val, f)\n",
    "with open('/cdtshared/wearables/students/group5/XtestPCAELLIE.pkl','wb') as f:\n",
    "    pickle.dump(X_pca_test, f)\n",
    "with open('/cdtshared/wearables/students/group5/ytrainPCAELLIE.pkl','wb') as f:\n",
    "    pickle.dump(y_train, f)\n",
    "with open('/cdtshared/wearables/students/group5/yvalPCAELLIE.pkl','wb') as f:\n",
    "    pickle.dump(y_val, f)\n",
    "with open('/cdtshared/wearables/students/group5/ytestPCAELLIE.pkl','wb') as f:\n",
    "    pickle.dump(y_test, f)"
   ]
  },
  {
   "cell_type": "code",
   "execution_count": null,
   "id": "429f6283",
   "metadata": {},
   "outputs": [],
   "source": []
  }
 ],
 "metadata": {
  "kernelspec": {
   "display_name": "Python 3 (ipykernel)",
   "language": "python",
   "name": "python3"
  },
  "language_info": {
   "codemirror_mode": {
    "name": "ipython",
    "version": 3
   },
   "file_extension": ".py",
   "mimetype": "text/x-python",
   "name": "python",
   "nbconvert_exporter": "python",
   "pygments_lexer": "ipython3",
   "version": "3.9.7"
  }
 },
 "nbformat": 4,
 "nbformat_minor": 5
}
