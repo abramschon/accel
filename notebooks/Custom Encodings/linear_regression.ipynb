{
 "cells": [
  {
   "cell_type": "markdown",
   "id": "39158b55",
   "metadata": {},
   "source": [
    "# Linear regression\n",
    "In this notebook, we do regression for the problem of predicting mean activity based on non-wearable features taken from the UK biobank. We use the L1 and L2 norms, hence we use elastic-net."
   ]
  },
  {
   "cell_type": "code",
   "execution_count": 1,
   "id": "26aba2de",
   "metadata": {},
   "outputs": [],
   "source": [
    "# imports\n",
    "import numpy as np\n",
    "import pandas as pd\n",
    "import matplotlib.pyplot as plt\n",
    "\n",
    "# For reproducibility\n",
    "np.random.seed(42)"
   ]
  },
  {
   "cell_type": "code",
   "execution_count": 2,
   "id": "67c7c180",
   "metadata": {},
   "outputs": [],
   "source": [
    "from accel.constants import DATA_DIR\n",
    "from accel.read_data import prep_data"
   ]
  },
  {
   "cell_type": "markdown",
   "id": "3bd528b9",
   "metadata": {},
   "source": [
    "## Data prep"
   ]
  },
  {
   "cell_type": "code",
   "execution_count": 3,
   "id": "0c3f20d2",
   "metadata": {},
   "outputs": [],
   "source": [
    "X_train, X_val, X_test, y_train, y_val, y_test, means_modes = prep_data(DATA_DIR / \"shared/eliminated-missing-participants.csv\",\n",
    "                                                                        normalise = True,\n",
    "                                                                        one_hot = True)"
   ]
  },
  {
   "cell_type": "code",
   "execution_count": 5,
   "id": "e8e9b0f8",
   "metadata": {},
   "outputs": [
    {
     "data": {
      "text/plain": [
       "(60829, 443)"
      ]
     },
     "execution_count": 5,
     "metadata": {},
     "output_type": "execute_result"
    }
   ],
   "source": [
    "X_train.shape"
   ]
  },
  {
   "cell_type": "markdown",
   "id": "4b77f6dd",
   "metadata": {},
   "source": [
    "## Model"
   ]
  },
  {
   "cell_type": "code",
   "execution_count": 6,
   "id": "ed59de6a",
   "metadata": {},
   "outputs": [],
   "source": [
    "from sklearn.linear_model import ElasticNet, LinearRegression \n",
    "from sklearn.metrics import r2_score, mean_squared_error"
   ]
  },
  {
   "cell_type": "markdown",
   "id": "be45e354",
   "metadata": {},
   "source": [
    "Since we only have two parameters to search through, we can do a random-search for a number of iterations and then plot the results in 2D. The objective function is:\n",
    "$$\n",
    "        1 / (2 \\cdot n_\\text{samples}) \\cdot ||y - Xw||^2_2 \\\\\n",
    "        + \\text{alpha} * \\text{l1_ratio} \\cdot ||w||_1  \\\\\n",
    "        + 0.5 * \\text{alpha} * (1 - \\text{l1_ratio}) \\cdot ||w||^2_2\n",
    "$$\n",
    "When the l1_ratio is close to 1, we have mainly l1 regularisation."
   ]
  },
  {
   "cell_type": "code",
   "execution_count": 7,
   "id": "af03fa95",
   "metadata": {},
   "outputs": [],
   "source": [
    "np.random.seed(42) # set seed"
   ]
  },
  {
   "cell_type": "code",
   "execution_count": 8,
   "id": "5eb25f77",
   "metadata": {},
   "outputs": [],
   "source": [
    "alphas = []\n",
    "l1_ratios = []\n",
    "r2_scores = []\n",
    "mse_scores = []\n",
    "its = 50"
   ]
  },
  {
   "cell_type": "code",
   "execution_count": 9,
   "id": "d630f102",
   "metadata": {
    "scrolled": true
   },
   "outputs": [
    {
     "name": "stdout",
     "output_type": "stream",
     "text": [
      "0 0.0469 0.9507, 1 0.1513 0.5969, 2 0.017 0.0581, 3 0.0406 0.1429, 4 0.0021 0.9699, 5 0.279 0.0008, 6 0.0203 0.3042, 7 0.0007 0.0231, "
     ]
    },
    {
     "name": "stderr",
     "output_type": "stream",
     "text": [
      "/cdthome/pkd542/.conda/envs/accel/lib/python3.9/site-packages/sklearn/linear_model/_coordinate_descent.py:647: ConvergenceWarning: Objective did not converge. You might want to increase the number of iterations, check the scale of the features or consider increasing regularisation. Duality gap: 1.053e+06, tolerance: 5.274e+02\n",
      "  model = cd_fast.enet_coordinate_descent(\n"
     ]
    },
    {
     "name": "stdout",
     "output_type": "stream",
     "text": [
      "8 0.0946 0.1395, 9 0.364 0.2328, 10 0.1538 0.1997, 11 0.4088 0.4668, 12 0.0935 0.1705, 13 0.0013 0.9422, "
     ]
    },
    {
     "name": "stderr",
     "output_type": "stream",
     "text": [
      "/cdthome/pkd542/.conda/envs/accel/lib/python3.9/site-packages/sklearn/linear_model/_coordinate_descent.py:647: ConvergenceWarning: Objective did not converge. You might want to increase the number of iterations, check the scale of the features or consider increasing regularisation. Duality gap: 1.229e+03, tolerance: 5.274e+02\n",
      "  model = cd_fast.enet_coordinate_descent(\n"
     ]
    },
    {
     "name": "stdout",
     "output_type": "stream",
     "text": [
      "14 0.1652 0.3046, 15 0.0263 0.241, 16 0.013 0.4952, 17 0.019 0.3911, 18 0.1086 0.3117, 19 0.0233 0.5677, 20 0.3493 0.7751, 21 0.0503 0.9267, 22 0.2549 0.0885, 23 0.0736 0.9612, 24 0.0492 0.2713, 25 0.0884 0.9653, 26 0.0782 0.1409, 27 0.0181 0.0156, 28 0.1479 0.1987, 29 0.0014 0.1988, 30 0.1306 0.7713, 31 0.2608 0.6511, 32 0.1989 0.6233, 33 0.01 0.3708, 34 0.0393 0.7296, 35 0.0321 0.5612, 36 0.0127 0.7132, 37 0.1279 0.236, 38 0.0681 0.5227, 39 0.0118 0.4393, 40 0.0032 0.6364, 41 0.0828 0.6955, 42 0.0287 0.4104, 43 0.0227 0.9429, 44 0.0342 0.1612, 45 0.0979 0.2956, 46 0.2052 0.8037, 47 0.0539 0.8833, 48 0.1647 0.8961, 49 0.2373 0.2721, "
     ]
    }
   ],
   "source": [
    "for i in range(its):\n",
    "    alpha = np.random.exponential(0.1) # random exponentially distributed number\n",
    "    l1_ratio = np.random.uniform(0, 1) # random uniform number between 0 and 1\n",
    "    print(i,np.round(alpha,4),np.round(l1_ratio,4), end=\", \")\n",
    "    alphas.append(alpha)\n",
    "    l1_ratios.append(l1_ratio)\n",
    "    # train model on training and then assess on validation\n",
    "    clf = ElasticNet(alpha=alpha, l1_ratio=l1_ratio).fit(X_train, y_train)\n",
    "    y_pred = clf.predict(X_val)\n",
    "    r2_scores.append(r2_score(y_pred, y_val))\n",
    "    mse_scores.append(mean_squared_error(y_pred, y_val))"
   ]
  },
  {
   "cell_type": "markdown",
   "id": "99ccc147",
   "metadata": {},
   "source": [
    "##  Visualise output"
   ]
  },
  {
   "cell_type": "code",
   "execution_count": 12,
   "id": "6d702a34",
   "metadata": {},
   "outputs": [
    {
     "data": {
      "image/png": "[encoded data removed]",
      "text/plain": [
       "<Figure size 720x720 with 2 Axes>"
      ]
     },
     "metadata": {
      "needs_background": "light"
     },
     "output_type": "display_data"
    }
   ],
   "source": [
    "mse = np.array(mse_scores)\n",
    "r2 = np.array(r2_scores)\n",
    "scaled_mse = (mse - np.min(mse)) / (np.max(mse) - np.min(mse))\n",
    "arg_min = np.argmin(scaled_mse)\n",
    "\n",
    "plt.figure(figsize=(10,10))\n",
    "plt.scatter(alphas, l1_ratios, c=scaled_mse, cmap=\"coolwarm\")\n",
    "plt.xlabel(\"Amount of regularisation $ \\\\alpha $\")\n",
    "plt.ylabel(\"Ratio of $L_1$ to $L_2$ regularisation\")\n",
    "plt.xscale(\"log\")\n",
    "plt.title(\"Random search through hyper-params, points coloured by scaled MSE on validation data\")\n",
    "plt.colorbar()\n",
    "\n",
    "# highlight hyper-params with min MSE\n",
    "a, l1 = alphas[arg_min], l1_ratios[arg_min]\n",
    "t = plt.text(a,l1,\n",
    "             f\"$\\\\alpha$: {np.round(a,4)}, $L_1/L_2$: {np.round(l1,2)}, \\nMSE: {np.round(mse[arg_min],2)}, $R^2$: {np.round(r2[arg_min],2)}\",\n",
    "            ha = \"right\")\n",
    "t.set_bbox(dict(facecolor='white', alpha=0.7, edgecolor='white'))\n",
    "plt.plot(a,l1,\"ro\",mfc='none',markersize=20)\n",
    "\n",
    "plt.show()\n"
   ]
  },
  {
   "cell_type": "markdown",
   "id": "b4f0b3af",
   "metadata": {},
   "source": [
    "Assess model performance"
   ]
  },
  {
   "cell_type": "code",
   "execution_count": 13,
   "id": "48aa6695",
   "metadata": {},
   "outputs": [],
   "source": [
    "from accel.training import score"
   ]
  },
  {
   "cell_type": "code",
   "execution_count": 16,
   "id": "3101f9ae",
   "metadata": {},
   "outputs": [
    {
     "name": "stdout",
     "output_type": "stream",
     "text": [
      "MSE is:  71.51077533135975\n",
      "R2 is:  -3.7400438653702324\n",
      "Explained variance is: -3.7397438235373706\n"
     ]
    }
   ],
   "source": [
    "clf = ElasticNet(alpha=alphas[arg_min], l1_ratio=l1_ratios[arg_min]).fit(X_train, y_train)\n",
    "_ = score(clf.predict(X_test),y_test)"
   ]
  },
  {
   "cell_type": "markdown",
   "id": "63cfd747",
   "metadata": {},
   "source": [
    "Since a model with relative low amounts of regularisaiton performs best, how does this compare to just vanilla linear regression?"
   ]
  },
  {
   "cell_type": "code",
   "execution_count": 17,
   "id": "a4ba6a07",
   "metadata": {},
   "outputs": [
    {
     "name": "stdout",
     "output_type": "stream",
     "text": [
      "MSE is:  71.89625516679777\n",
      "R2 is:  -3.5777022059887846\n",
      "Explained variance is: -3.5773643285859995\n"
     ]
    }
   ],
   "source": [
    "clf = LinearRegression().fit(X_train, y_train)\n",
    "_ = score(clf.predict(X_test),y_test)"
   ]
  }
 ],
 "metadata": {
  "kernelspec": {
   "display_name": "Python 3 (ipykernel)",
   "language": "python",
   "name": "python3"
  },
  "language_info": {
   "codemirror_mode": {
    "name": "ipython",
    "version": 3
   },
   "file_extension": ".py",
   "mimetype": "text/x-python",
   "name": "python",
   "nbconvert_exporter": "python",
   "pygments_lexer": "ipython3",
   "version": "3.9.7"
  }
 },
 "nbformat": 4,
 "nbformat_minor": 5
}
