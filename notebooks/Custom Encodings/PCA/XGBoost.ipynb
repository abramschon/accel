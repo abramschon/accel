{
 "cells": [
  {
   "cell_type": "markdown",
   "id": "d8801792",
   "metadata": {},
   "source": [
    "# XGBoost\n",
    "In this notebook, we fit an XGBoost model to the regression problem of predicting mean activity based on non-wearable features taken from the UK biobank but with PCA components."
   ]
  },
  {
   "cell_type": "code",
   "execution_count": 1,
   "id": "683c3cd6",
   "metadata": {},
   "outputs": [],
   "source": [
    "# imports\n",
    "import numpy as np\n",
    "import pandas as pd\n",
    "import matplotlib.pyplot as plt\n",
    "\n",
    "# For reproducibility\n",
    "np.random.seed(42)"
   ]
  },
  {
   "cell_type": "code",
   "execution_count": 2,
   "id": "a07383c2",
   "metadata": {},
   "outputs": [],
   "source": [
    "# Path to dataset\n",
    "PATH = '/cdtshared/wearables/students/group5/'\n",
    "\n",
    "# Features from biobank\n",
    "X_train = pd.read_pickle(PATH+\"XtrainPCAELLIE.pkl\")\n",
    "X_val = pd.read_pickle(PATH+\"XvalPCAELLIE.pkl\")\n",
    "X_test = pd.read_pickle(PATH+\"XtestPCAELLIE.pkl\")\n",
    "# Outcome\n",
    "y_train = pd.read_pickle(PATH+\"ytrainPCAELLIE.pkl\")\n",
    "y_val = pd.read_pickle(PATH+\"yvalPCAELLIE.pkl\")\n",
    "y_test = pd.read_pickle(PATH+\"ytestPCAELLIE.pkl\")"
   ]
  },
  {
   "cell_type": "markdown",
   "id": "f6be807b",
   "metadata": {},
   "source": [
    "## Data prep"
   ]
  },
  {
   "cell_type": "code",
   "execution_count": 3,
   "id": "c134bd10",
   "metadata": {},
   "outputs": [
    {
     "name": "stdout",
     "output_type": "stream",
     "text": [
      "(60829, 60)\n"
     ]
    }
   ],
   "source": [
    "print(X_train.shape)"
   ]
  },
  {
   "cell_type": "markdown",
   "id": "cf0cb008",
   "metadata": {},
   "source": [
    "# Random Forest"
   ]
  },
  {
   "cell_type": "code",
   "execution_count": 4,
   "id": "3ced21bd",
   "metadata": {},
   "outputs": [
    {
     "name": "stdout",
     "output_type": "stream",
     "text": [
      "/cdthome/xqe353/Custom Encodings\n",
      "/cdthome/xqe353\n"
     ]
    }
   ],
   "source": [
    "%cd ..\n",
    "%cd ..\n",
    "from time import time\n",
    "from xgboost import XGBRegressor\n",
    "from accel.training import model_tune, score"
   ]
  },
  {
   "cell_type": "markdown",
   "id": "3da2632d",
   "metadata": {},
   "source": [
    "## Timing\n",
    "Timing how long it takes to fit an SVM to different sizes of data. Keep in mind, there are 69567 training observations."
   ]
  },
  {
   "cell_type": "code",
   "execution_count": 5,
   "id": "6ebb3372",
   "metadata": {},
   "outputs": [
    {
     "data": {
      "text/plain": [
       "array([ 100, 1100, 2100, 3100, 4100, 5100, 6100, 7100, 8100, 9100])"
      ]
     },
     "execution_count": 5,
     "metadata": {},
     "output_type": "execute_result"
    }
   ],
   "source": [
    "Ns = np.arange(100,10001,1000)\n",
    "Ns"
   ]
  },
  {
   "cell_type": "code",
   "execution_count": 6,
   "id": "07aca388",
   "metadata": {},
   "outputs": [
    {
     "name": "stdout",
     "output_type": "stream",
     "text": [
      "Rep 0 Size:100, 1100, 2100, 3100, 4100, 5100, 6100, 7100, 8100, 9100, \n",
      "Rep 1 Size:100, 1100, 2100, 3100, 4100, 5100, 6100, 7100, 8100, 9100, \n",
      "Rep 2 Size:100, 1100, 2100, 3100, 4100, 5100, 6100, 7100, 8100, 9100, \n",
      "Rep 3 Size:100, 1100, 2100, 3100, 4100, 5100, 6100, 7100, 8100, 9100, \n",
      "Rep 4 Size:100, 1100, 2100, 3100, 4100, 5100, 6100, 7100, 8100, 9100, \n"
     ]
    }
   ],
   "source": [
    "reps = 5\n",
    "times = np.zeros((reps,len(Ns)))\n",
    "\n",
    "for r in range(reps):\n",
    "    print(\"Rep\",r, \"Size:\", end=\"\")\n",
    "    for i in range(len(Ns)):\n",
    "        print(Ns[i],end=\", \")\n",
    "        N = Ns[i]\n",
    "        clf = XGBRegressor() # default RF\n",
    "        start = time()\n",
    "        clf.fit(X_train[:N], y_train[:N ]) #train model and time\n",
    "        times[r,i] = time() - start\n",
    "    print()"
   ]
  },
  {
   "cell_type": "code",
   "execution_count": 7,
   "id": "cb6b6c58",
   "metadata": {},
   "outputs": [
    {
     "data": {
      "image/png": "[encoded data removed]",
      "text/plain": [
       "<Figure size 432x288 with 1 Axes>"
      ]
     },
     "metadata": {
      "needs_background": "light"
     },
     "output_type": "display_data"
    }
   ],
   "source": [
    "plt.plot(Ns, np.sqrt(np.mean(times,axis=0)), \".\")\n",
    "plt.xlabel(\"No. samples\")\n",
    "plt.ylabel(\"Square root training time ($seconds^{1/2}$)\")\n",
    "plt.show()"
   ]
  },
  {
   "cell_type": "code",
   "execution_count": 8,
   "id": "fb106acb",
   "metadata": {},
   "outputs": [
    {
     "data": {
      "text/plain": [
       "0.00020315112846248711"
      ]
     },
     "execution_count": 8,
     "metadata": {},
     "output_type": "execute_result"
    }
   ],
   "source": [
    "root_mean_times = np.sqrt(np.mean(times,axis=0))\n",
    "m = root_mean_times[-1] / Ns[-1]\n",
    "m"
   ]
  },
  {
   "cell_type": "code",
   "execution_count": 9,
   "id": "b0d457a3",
   "metadata": {},
   "outputs": [
    {
     "data": {
      "text/plain": [
       "1.8486752690086328"
      ]
     },
     "execution_count": 9,
     "metadata": {},
     "output_type": "execute_result"
    }
   ],
   "source": [
    "# Time it takes for 9000 samples\n",
    "(m * 9100)"
   ]
  },
  {
   "cell_type": "code",
   "execution_count": 10,
   "id": "4c173ce8",
   "metadata": {},
   "outputs": [
    {
     "name": "stdout",
     "output_type": "stream",
     "text": [
      "Predicted training time in minutes 2.5451218630573544\n"
     ]
    }
   ],
   "source": [
    "N_train = X_train.shape[0]\n",
    "pred_secs = (m * N_train)**2 #answer in seconds\n",
    "print(\"Predicted training time in minutes\", pred_secs / 60) # answer in minutes"
   ]
  },
  {
   "cell_type": "code",
   "execution_count": 11,
   "id": "3a55a939",
   "metadata": {},
   "outputs": [
    {
     "data": {
      "text/plain": [
       "21.592031717300415"
      ]
     },
     "execution_count": 11,
     "metadata": {},
     "output_type": "execute_result"
    }
   ],
   "source": [
    "# fitting the classifier\n",
    "clf = XGBRegressor()\n",
    "start = time()\n",
    "clf.fit(X_train, y_train) #train model and time\n",
    "time() - start"
   ]
  },
  {
   "cell_type": "markdown",
   "id": "2e017f11",
   "metadata": {},
   "source": [
    "How good is the out the box model?"
   ]
  },
  {
   "cell_type": "code",
   "execution_count": 12,
   "id": "3384de3f",
   "metadata": {},
   "outputs": [],
   "source": [
    "from accel.training import score"
   ]
  },
  {
   "cell_type": "code",
   "execution_count": 13,
   "id": "2971f3dd",
   "metadata": {},
   "outputs": [],
   "source": [
    "y_pred = clf.predict(X_val)"
   ]
  },
  {
   "cell_type": "code",
   "execution_count": 14,
   "id": "f134a41d",
   "metadata": {},
   "outputs": [
    {
     "data": {
      "text/plain": [
       "[<matplotlib.lines.Line2D at 0x7fd259807220>]"
      ]
     },
     "execution_count": 14,
     "metadata": {},
     "output_type": "execute_result"
    },
    {
     "data": {
      "image/png": "[encoded data removed]",
      "text/plain": [
       "<Figure size 432x288 with 1 Axes>"
      ]
     },
     "metadata": {
      "needs_background": "light"
     },
     "output_type": "display_data"
    }
   ],
   "source": [
    "plt.plot(y_val,y_pred, \".\")"
   ]
  },
  {
   "cell_type": "code",
   "execution_count": 15,
   "id": "7403cd6a",
   "metadata": {},
   "outputs": [
    {
     "name": "stdout",
     "output_type": "stream",
     "text": [
      "MSE is:  73.63027472565498\n",
      "R2 is:  0.12575348634689798\n",
      "Explained variance is: 0.12585694538481962\n"
     ]
    },
    {
     "data": {
      "text/plain": [
       "(<function sklearn.metrics._regression.r2_score(y_true, y_pred, *, sample_weight=None, multioutput='uniform_average')>,\n",
       " <function sklearn.metrics._regression.mean_squared_error(y_true, y_pred, *, sample_weight=None, multioutput='uniform_average', squared=True)>,\n",
       " <function sklearn.metrics._regression.explained_variance_score(y_true, y_pred, *, sample_weight=None, multioutput='uniform_average')>)"
      ]
     },
     "execution_count": 15,
     "metadata": {},
     "output_type": "execute_result"
    }
   ],
   "source": [
    "score(y_val, y_pred)"
   ]
  },
  {
   "cell_type": "markdown",
   "id": "b5f2c049",
   "metadata": {},
   "source": [
    "# Hyper-parameter tuning\n",
    "We perform hyper-parameter tuning on the linear SVM since it is less time-consuming to fit"
   ]
  },
  {
   "cell_type": "code",
   "execution_count": 16,
   "id": "26bdc9c4",
   "metadata": {},
   "outputs": [],
   "source": [
    "from accel.training import model_tune"
   ]
  },
  {
   "cell_type": "code",
   "execution_count": 17,
   "id": "c85e00ba",
   "metadata": {},
   "outputs": [
    {
     "data": {
      "text/plain": [
       "9.311881251340733"
      ]
     },
     "execution_count": 17,
     "metadata": {},
     "output_type": "execute_result"
    }
   ],
   "source": [
    "y_train.std()"
   ]
  },
  {
   "cell_type": "code",
   "execution_count": 18,
   "id": "8a23239d",
   "metadata": {},
   "outputs": [],
   "source": [
    "# define lists of params interested in\n",
    "\n",
    "# Number of trees in random forest\n",
    "n_estimators = [10, 25, 50, 100, 150]\n",
    "# Maximum number of levels in tree\n",
    "max_depth = [6, 10, 50]\n",
    "max_depth.append(None)\n",
    "# The learning rate used to weight each model\n",
    "learning_rate = [0.3, 0.1, 0.01, 0.001]\n",
    "# Subsample ratio of the training instance\n",
    "subsample = [0.7, 1.0]\n",
    "# L2 regularisation\n",
    "reg_lambda = [0.0, 0.5, 0.7, 1.0]\n",
    "# L1 regularisation\n",
    "reg_alpha = [0.0, 0.5, 0.7, 1.0]\n",
    "\n",
    "# Create the grid\n",
    "params = {'n_estimators': n_estimators,\n",
    "               'learning_rate': learning_rate,\n",
    "               'max_depth': max_depth,\n",
    "               'subsample': subsample,\n",
    "               'reg_lambda': reg_lambda,\n",
    "               'reg_alpha': reg_alpha}"
   ]
  },
  {
   "cell_type": "code",
   "execution_count": 19,
   "id": "7ea6c907",
   "metadata": {},
   "outputs": [
    {
     "name": "stdout",
     "output_type": "stream",
     "text": [
      "Fitting 1 folds for each of 1 candidates, totalling 1 fits\n",
      "Fitting 1 folds for each of 1 candidates, totalling 1 fits\n",
      "Fitting 1 folds for each of 1 candidates, totalling 1 fits\n",
      "Fitting 1 folds for each of 1 candidates, totalling 1 fits\n",
      "Fitting 1 folds for each of 1 candidates, totalling 1 fits\n",
      "Fitting 1 folds for each of 1 candidates, totalling 1 fits\n",
      "Fitting 1 folds for each of 1 candidates, totalling 1 fits\n",
      "Fitting 1 folds for each of 1 candidates, totalling 1 fits\n",
      "Fitting 1 folds for each of 1 candidates, totalling 1 fits\n",
      "Fitting 1 folds for each of 1 candidates, totalling 1 fits\n",
      "Fitting 1 folds for each of 1 candidates, totalling 1 fits\n",
      "Fitting 1 folds for each of 1 candidates, totalling 1 fits\n",
      "Fitting 1 folds for each of 1 candidates, totalling 1 fits\n",
      "Fitting 1 folds for each of 1 candidates, totalling 1 fits\n",
      "Fitting 1 folds for each of 1 candidates, totalling 1 fits\n"
     ]
    },
    {
     "name": "stderr",
     "output_type": "stream",
     "text": [
      "/cdthome/xqe353/.conda/envs/cdt_wearables/lib/python3.9/site-packages/skopt/optimizer/optimizer.py:449: UserWarning: The objective has been evaluated at this point before.\n",
      "  warnings.warn(\"The objective has been evaluated \"\n"
     ]
    },
    {
     "name": "stdout",
     "output_type": "stream",
     "text": [
      "Fitting 1 folds for each of 1 candidates, totalling 1 fits\n"
     ]
    },
    {
     "name": "stderr",
     "output_type": "stream",
     "text": [
      "/cdthome/xqe353/.conda/envs/cdt_wearables/lib/python3.9/site-packages/skopt/optimizer/optimizer.py:449: UserWarning: The objective has been evaluated at this point before.\n",
      "  warnings.warn(\"The objective has been evaluated \"\n"
     ]
    },
    {
     "name": "stdout",
     "output_type": "stream",
     "text": [
      "Fitting 1 folds for each of 1 candidates, totalling 1 fits\n",
      "Fitting 1 folds for each of 1 candidates, totalling 1 fits\n",
      "Fitting 1 folds for each of 1 candidates, totalling 1 fits\n",
      "Fitting 1 folds for each of 1 candidates, totalling 1 fits\n",
      "Fitting 1 folds for each of 1 candidates, totalling 1 fits\n",
      "Fitting 1 folds for each of 1 candidates, totalling 1 fits\n"
     ]
    },
    {
     "name": "stderr",
     "output_type": "stream",
     "text": [
      "/cdthome/xqe353/.conda/envs/cdt_wearables/lib/python3.9/site-packages/skopt/optimizer/optimizer.py:449: UserWarning: The objective has been evaluated at this point before.\n",
      "  warnings.warn(\"The objective has been evaluated \"\n"
     ]
    },
    {
     "name": "stdout",
     "output_type": "stream",
     "text": [
      "Fitting 1 folds for each of 1 candidates, totalling 1 fits\n",
      "Fitting 1 folds for each of 1 candidates, totalling 1 fits\n",
      "Fitting 1 folds for each of 1 candidates, totalling 1 fits\n",
      "Fitting 1 folds for each of 1 candidates, totalling 1 fits\n",
      "Fitting 1 folds for each of 1 candidates, totalling 1 fits\n",
      "Fitting 1 folds for each of 1 candidates, totalling 1 fits\n",
      "Fitting 1 folds for each of 1 candidates, totalling 1 fits\n",
      "Fitting 1 folds for each of 1 candidates, totalling 1 fits\n",
      "Best parameter combo: OrderedDict([('learning_rate', 0.1), ('max_depth', 6), ('n_estimators', 100), ('reg_alpha', 1.0), ('reg_lambda', 1.0), ('subsample', 1.0)])\n",
      "Best validation MSE: 1.6316569391022506e-01\n"
     ]
    },
    {
     "data": {
      "text/plain": [
       "BayesSearchCV(cv=PredefinedSplit(test_fold=array([-1, -1, ...,  0,  0])),\n",
       "              estimator=XGBRegressor(base_score=None, booster=None,\n",
       "                                     colsample_bylevel=None,\n",
       "                                     colsample_bynode=None,\n",
       "                                     colsample_bytree=None,\n",
       "                                     enable_categorical=False, gamma=None,\n",
       "                                     gpu_id=None, importance_type=None,\n",
       "                                     interaction_constraints=None,\n",
       "                                     learning_rate=None, max_delta_step=None,\n",
       "                                     max_depth=None, min_child_we...\n",
       "                                     random_state=None, reg_alpha=None,\n",
       "                                     reg_lambda=None, scale_pos_weight=None,\n",
       "                                     subsample=None, tree_method=None,\n",
       "                                     validate_parameters=None, verbosity=None),\n",
       "              n_iter=30, refit=False,\n",
       "              search_spaces={'learning_rate': [0.3, 0.1, 0.01, 0.001],\n",
       "                             'max_depth': [6, 10, 50, None],\n",
       "                             'n_estimators': [10, 25, 50, 100, 150],\n",
       "                             'reg_alpha': [0.0, 0.5, 0.7, 1.0],\n",
       "                             'reg_lambda': [0.0, 0.5, 0.7, 1.0],\n",
       "                             'subsample': [0.7, 1.0]},\n",
       "              verbose=1)"
      ]
     },
     "execution_count": 19,
     "metadata": {},
     "output_type": "execute_result"
    }
   ],
   "source": [
    "# Get the optimal parameters\n",
    "model_tune(XGBRegressor(), \n",
    "                 params, X_train, y_train, X_val, y_val, 30)"
   ]
  },
  {
   "cell_type": "markdown",
   "id": "ca3160a8",
   "metadata": {},
   "source": [
    "Best parameters: <br>\n",
    "**reg_lambda**:1.0 <br>\n",
    "**max_depth**: 6 <br>\n",
    "**reg_alpha**: 1.0 <br>\n",
    "**subsample**: 1.0 <br>\n",
    "**learning_rate**: 0.1 <br>\n",
    "**n_estimators**: 100 <br>"
   ]
  },
  {
   "cell_type": "code",
   "execution_count": 20,
   "id": "e8dea00c",
   "metadata": {},
   "outputs": [
    {
     "data": {
      "text/plain": [
       "XGBRegressor(base_score=0.5, booster='gbtree', colsample_bylevel=1,\n",
       "             colsample_bynode=1, colsample_bytree=1, enable_categorical=False,\n",
       "             gamma=0, gpu_id=-1, importance_type=None,\n",
       "             interaction_constraints='', learning_rate=0.1, max_delta_step=0,\n",
       "             max_depth=6, min_child_weight=1, missing=nan,\n",
       "             monotone_constraints='()', n_estimators=100, n_jobs=3,\n",
       "             num_parallel_tree=1, predictor='auto', random_state=0, reg_alpha=1,\n",
       "             reg_lambda=1.0, scale_pos_weight=1, subsample=1,\n",
       "             tree_method='exact', validate_parameters=1, verbosity=None)"
      ]
     },
     "execution_count": 20,
     "metadata": {},
     "output_type": "execute_result"
    }
   ],
   "source": [
    "clf = XGBRegressor(reg_lambda=1.0, max_depth=6, reg_alpha=1, learning_rate = 0.1, subsample = 1, n_estimators = 100)\n",
    "clf.fit(X_train, y_train)"
   ]
  },
  {
   "cell_type": "code",
   "execution_count": 21,
   "id": "a401b3f7",
   "metadata": {},
   "outputs": [
    {
     "name": "stdout",
     "output_type": "stream",
     "text": [
      "MSE is:  70.47936582529184\n",
      "R2 is:  0.16316569391022506\n",
      "Explained variance is: 0.16328062793585318\n"
     ]
    },
    {
     "data": {
      "text/plain": [
       "(<function sklearn.metrics._regression.r2_score(y_true, y_pred, *, sample_weight=None, multioutput='uniform_average')>,\n",
       " <function sklearn.metrics._regression.mean_squared_error(y_true, y_pred, *, sample_weight=None, multioutput='uniform_average', squared=True)>,\n",
       " <function sklearn.metrics._regression.explained_variance_score(y_true, y_pred, *, sample_weight=None, multioutput='uniform_average')>)"
      ]
     },
     "execution_count": 21,
     "metadata": {},
     "output_type": "execute_result"
    },
    {
     "data": {
      "image/png": "[encoded data removed]",
      "text/plain": [
       "<Figure size 432x288 with 1 Axes>"
      ]
     },
     "metadata": {
      "needs_background": "light"
     },
     "output_type": "display_data"
    }
   ],
   "source": [
    "y_pred = clf.predict(X_val)\n",
    "plt.plot(y_val,y_pred, \".\")\n",
    "score(y_val, y_pred)"
   ]
  },
  {
   "cell_type": "markdown",
   "id": "f08b0634",
   "metadata": {},
   "source": [
    "# Test"
   ]
  },
  {
   "cell_type": "code",
   "execution_count": 22,
   "id": "f9e64fb6",
   "metadata": {},
   "outputs": [],
   "source": [
    "X = np.vstack((X_train, X_val))\n",
    "y = np.concatenate([y_train, y_val])"
   ]
  },
  {
   "cell_type": "code",
   "execution_count": 23,
   "id": "5682291f",
   "metadata": {},
   "outputs": [
    {
     "data": {
      "text/plain": [
       "XGBRegressor(base_score=0.5, booster='gbtree', colsample_bylevel=1,\n",
       "             colsample_bynode=1, colsample_bytree=1, enable_categorical=False,\n",
       "             gamma=0, gpu_id=-1, importance_type=None,\n",
       "             interaction_constraints='', learning_rate=0.1, max_delta_step=0,\n",
       "             max_depth=6, min_child_weight=1, missing=nan,\n",
       "             monotone_constraints='()', n_estimators=100, n_jobs=3,\n",
       "             num_parallel_tree=1, predictor='auto', random_state=0, reg_alpha=1,\n",
       "             reg_lambda=1.0, scale_pos_weight=1, subsample=1,\n",
       "             tree_method='exact', validate_parameters=1, verbosity=None)"
      ]
     },
     "execution_count": 23,
     "metadata": {},
     "output_type": "execute_result"
    }
   ],
   "source": [
    "model = XGBRegressor(reg_lambda=1.0, max_depth=6, reg_alpha=1, learning_rate = 0.1, subsample = 1, n_estimators = 100)\n",
    "model.fit(X, y)"
   ]
  },
  {
   "cell_type": "code",
   "execution_count": 24,
   "id": "471196eb",
   "metadata": {},
   "outputs": [
    {
     "name": "stdout",
     "output_type": "stream",
     "text": [
      "MSE is:  72.26508600639974\n",
      "R2 is:  0.1587957865405487\n",
      "Explained variance is: 0.1588149755584346\n"
     ]
    },
    {
     "data": {
      "text/plain": [
       "(<function sklearn.metrics._regression.r2_score(y_true, y_pred, *, sample_weight=None, multioutput='uniform_average')>,\n",
       " <function sklearn.metrics._regression.mean_squared_error(y_true, y_pred, *, sample_weight=None, multioutput='uniform_average', squared=True)>,\n",
       " <function sklearn.metrics._regression.explained_variance_score(y_true, y_pred, *, sample_weight=None, multioutput='uniform_average')>)"
      ]
     },
     "execution_count": 24,
     "metadata": {},
     "output_type": "execute_result"
    }
   ],
   "source": [
    "# Get the test set performance\n",
    "score(y_test, model.predict(X_test))"
   ]
  },
  {
   "cell_type": "code",
   "execution_count": null,
   "id": "9d4ad2a2",
   "metadata": {},
   "outputs": [],
   "source": []
  }
 ],
 "metadata": {
  "kernelspec": {
   "display_name": "Python 3 (ipykernel)",
   "language": "python",
   "name": "python3"
  },
  "language_info": {
   "codemirror_mode": {
    "name": "ipython",
    "version": 3
   },
   "file_extension": ".py",
   "mimetype": "text/x-python",
   "name": "python",
   "nbconvert_exporter": "python",
   "pygments_lexer": "ipython3",
   "version": "3.9.7"
  }
 },
 "nbformat": 4,
 "nbformat_minor": 5
}
