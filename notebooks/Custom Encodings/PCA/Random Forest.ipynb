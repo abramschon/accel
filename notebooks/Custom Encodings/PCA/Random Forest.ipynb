{
 "cells": [
  {
   "cell_type": "markdown",
   "id": "d8801792",
   "metadata": {},
   "source": [
    "# Random Forest\n",
    "In this notebook, we fit a RF to the regression problem of predicting mean activity based on non-wearable features taken from the UK biobank but with PCA components."
   ]
  },
  {
   "cell_type": "code",
   "execution_count": 1,
   "id": "683c3cd6",
   "metadata": {},
   "outputs": [],
   "source": [
    "# imports\n",
    "import numpy as np\n",
    "import pandas as pd\n",
    "import matplotlib.pyplot as plt\n",
    "\n",
    "# For reproducibility\n",
    "np.random.seed(42)"
   ]
  },
  {
   "cell_type": "code",
   "execution_count": 5,
   "id": "a07383c2",
   "metadata": {},
   "outputs": [],
   "source": [
    "# Path to dataset\n",
    "PATH = '/cdtshared/wearables/students/group5/'\n",
    "\n",
    "# Features from biobank\n",
    "X_train = pd.read_pickle(PATH+\"XtrainPCAELLIE.pkl\")\n",
    "X_val = pd.read_pickle(PATH+\"XvalPCAELLIE.pkl\")\n",
    "X_test = pd.read_pickle(PATH+\"XtestPCAELLIE.pkl\")\n",
    "# Outcome\n",
    "y_train = pd.read_pickle(PATH+\"ytrainPCAELLIE.pkl\")\n",
    "y_val = pd.read_pickle(PATH+\"yvalPCAELLIE.pkl\")\n",
    "y_test = pd.read_pickle(PATH+\"ytestPCAELLIE.pkl\")"
   ]
  },
  {
   "cell_type": "markdown",
   "id": "f6be807b",
   "metadata": {},
   "source": [
    "## Data prep"
   ]
  },
  {
   "cell_type": "code",
   "execution_count": 6,
   "id": "c134bd10",
   "metadata": {},
   "outputs": [
    {
     "name": "stdout",
     "output_type": "stream",
     "text": [
      "(60829, 60)\n"
     ]
    }
   ],
   "source": [
    "print(X_train.shape)"
   ]
  },
  {
   "cell_type": "markdown",
   "id": "cf0cb008",
   "metadata": {},
   "source": [
    "# Random Forest"
   ]
  },
  {
   "cell_type": "code",
   "execution_count": 7,
   "id": "3ced21bd",
   "metadata": {},
   "outputs": [
    {
     "name": "stdout",
     "output_type": "stream",
     "text": [
      "/cdthome\n",
      "/\n"
     ]
    }
   ],
   "source": [
    "%cd ..\n",
    "%cd ..\n",
    "from time import time\n",
    "from sklearn.ensemble import RandomForestRegressor\n",
    "from accel.training import model_tune, score"
   ]
  },
  {
   "cell_type": "markdown",
   "id": "3da2632d",
   "metadata": {},
   "source": [
    "## Timing\n",
    "Timing how long it takes to fit an SVM to different sizes of data. Keep in mind, there are 69567 training observations."
   ]
  },
  {
   "cell_type": "code",
   "execution_count": 8,
   "id": "6ebb3372",
   "metadata": {},
   "outputs": [
    {
     "data": {
      "text/plain": [
       "array([ 100, 1100, 2100, 3100, 4100, 5100, 6100, 7100, 8100, 9100])"
      ]
     },
     "execution_count": 8,
     "metadata": {},
     "output_type": "execute_result"
    }
   ],
   "source": [
    "Ns = np.arange(100,10001,1000)\n",
    "Ns"
   ]
  },
  {
   "cell_type": "code",
   "execution_count": 9,
   "id": "07aca388",
   "metadata": {},
   "outputs": [
    {
     "name": "stdout",
     "output_type": "stream",
     "text": [
      "Rep 0 Size:100, 1100, 2100, 3100, 4100, 5100, 6100, 7100, 8100, 9100, \n",
      "Rep 1 Size:100, 1100, 2100, 3100, 4100, 5100, 6100, 7100, 8100, 9100, \n",
      "Rep 2 Size:100, 1100, 2100, 3100, 4100, 5100, 6100, 7100, 8100, 9100, \n",
      "Rep 3 Size:100, 1100, 2100, 3100, 4100, 5100, 6100, 7100, 8100, 9100, \n",
      "Rep 4 Size:100, 1100, 2100, 3100, 4100, 5100, 6100, 7100, 8100, 9100, \n"
     ]
    }
   ],
   "source": [
    "reps = 5\n",
    "times = np.zeros((reps,len(Ns)))\n",
    "\n",
    "for r in range(reps):\n",
    "    print(\"Rep\",r, \"Size:\", end=\"\")\n",
    "    for i in range(len(Ns)):\n",
    "        print(Ns[i],end=\", \")\n",
    "        N = Ns[i]\n",
    "        clf = RandomForestRegressor() # default RF\n",
    "        start = time()\n",
    "        clf.fit(X_train[:N], y_train[:N ]) #train model and time\n",
    "        times[r,i] = time() - start\n",
    "    print()"
   ]
  },
  {
   "cell_type": "code",
   "execution_count": 10,
   "id": "cb6b6c58",
   "metadata": {},
   "outputs": [
    {
     "data": {
      "image/png": "[encoded data removed]",
      "text/plain": [
       "<Figure size 432x288 with 1 Axes>"
      ]
     },
     "metadata": {
      "needs_background": "light"
     },
     "output_type": "display_data"
    }
   ],
   "source": [
    "plt.plot(Ns, np.sqrt(np.mean(times,axis=0)), \".\")\n",
    "plt.xlabel(\"No. samples\")\n",
    "plt.ylabel(\"Square root training time ($seconds^{1/2}$)\")\n",
    "plt.show()"
   ]
  },
  {
   "cell_type": "code",
   "execution_count": 11,
   "id": "fb106acb",
   "metadata": {},
   "outputs": [
    {
     "data": {
      "text/plain": [
       "0.0006656482136286831"
      ]
     },
     "execution_count": 11,
     "metadata": {},
     "output_type": "execute_result"
    }
   ],
   "source": [
    "root_mean_times = np.sqrt(np.mean(times,axis=0))\n",
    "m = root_mean_times[-1] / Ns[-1]\n",
    "m"
   ]
  },
  {
   "cell_type": "code",
   "execution_count": 12,
   "id": "b0d457a3",
   "metadata": {},
   "outputs": [
    {
     "data": {
      "text/plain": [
       "6.057398744021016"
      ]
     },
     "execution_count": 12,
     "metadata": {},
     "output_type": "execute_result"
    }
   ],
   "source": [
    "# Time it takes for 9000 samples\n",
    "(m * 9100)"
   ]
  },
  {
   "cell_type": "code",
   "execution_count": 13,
   "id": "4c173ce8",
   "metadata": {},
   "outputs": [
    {
     "name": "stdout",
     "output_type": "stream",
     "text": [
      "Predicted training time in minutes 27.324966939001804\n"
     ]
    }
   ],
   "source": [
    "N_train = X_train.shape[0]\n",
    "pred_secs = (m * N_train)**2 #answer in seconds\n",
    "print(\"Predicted training time in minutes\", pred_secs / 60) # answer in minutes"
   ]
  },
  {
   "cell_type": "code",
   "execution_count": 14,
   "id": "3a55a939",
   "metadata": {},
   "outputs": [
    {
     "data": {
      "text/plain": [
       "331.4826922416687"
      ]
     },
     "execution_count": 14,
     "metadata": {},
     "output_type": "execute_result"
    }
   ],
   "source": [
    "# fitting the classifier\n",
    "clf = RandomForestRegressor()\n",
    "start = time()\n",
    "clf.fit(X_train, y_train) #train model and time\n",
    "time() - start"
   ]
  },
  {
   "cell_type": "markdown",
   "id": "2e017f11",
   "metadata": {},
   "source": [
    "How good is the out the box model?"
   ]
  },
  {
   "cell_type": "code",
   "execution_count": 15,
   "id": "3384de3f",
   "metadata": {},
   "outputs": [],
   "source": [
    "from accel.training import score"
   ]
  },
  {
   "cell_type": "code",
   "execution_count": 16,
   "id": "2971f3dd",
   "metadata": {},
   "outputs": [],
   "source": [
    "y_pred = clf.predict(X_val)"
   ]
  },
  {
   "cell_type": "code",
   "execution_count": 17,
   "id": "f134a41d",
   "metadata": {},
   "outputs": [
    {
     "data": {
      "text/plain": [
       "[<matplotlib.lines.Line2D at 0x7f1be9246460>]"
      ]
     },
     "execution_count": 17,
     "metadata": {},
     "output_type": "execute_result"
    },
    {
     "data": {
      "image/png": "[encoded data removed]",
      "text/plain": [
       "<Figure size 432x288 with 1 Axes>"
      ]
     },
     "metadata": {
      "needs_background": "light"
     },
     "output_type": "display_data"
    }
   ],
   "source": [
    "plt.plot(y_val,y_pred, \".\")"
   ]
  },
  {
   "cell_type": "code",
   "execution_count": 18,
   "id": "7403cd6a",
   "metadata": {},
   "outputs": [
    {
     "name": "stdout",
     "output_type": "stream",
     "text": [
      "MSE is:  71.7169599547204\n",
      "R2 is:  0.14847116293092566\n",
      "Explained variance is: 0.14847335427542419\n"
     ]
    },
    {
     "data": {
      "text/plain": [
       "(<function sklearn.metrics._regression.r2_score(y_true, y_pred, *, sample_weight=None, multioutput='uniform_average')>,\n",
       " <function sklearn.metrics._regression.mean_squared_error(y_true, y_pred, *, sample_weight=None, multioutput='uniform_average', squared=True)>,\n",
       " <function sklearn.metrics._regression.explained_variance_score(y_true, y_pred, *, sample_weight=None, multioutput='uniform_average')>)"
      ]
     },
     "execution_count": 18,
     "metadata": {},
     "output_type": "execute_result"
    }
   ],
   "source": [
    "score(y_val, y_pred)"
   ]
  },
  {
   "cell_type": "markdown",
   "id": "b5f2c049",
   "metadata": {},
   "source": [
    "# Hyper-parameter tuning\n",
    "We perform hyper-parameter tuning on the linear SVM since it is less time-consuming to fit"
   ]
  },
  {
   "cell_type": "code",
   "execution_count": 19,
   "id": "26bdc9c4",
   "metadata": {},
   "outputs": [],
   "source": [
    "from accel.training import model_tune"
   ]
  },
  {
   "cell_type": "code",
   "execution_count": 20,
   "id": "c85e00ba",
   "metadata": {},
   "outputs": [
    {
     "data": {
      "text/plain": [
       "9.311881251340733"
      ]
     },
     "execution_count": 20,
     "metadata": {},
     "output_type": "execute_result"
    }
   ],
   "source": [
    "y_train.std()"
   ]
  },
  {
   "cell_type": "code",
   "execution_count": 21,
   "id": "8a23239d",
   "metadata": {},
   "outputs": [],
   "source": [
    "# define lists of params interested in\n",
    "\n",
    "# Number of trees in random forest\n",
    "n_estimators = [10, 25, 50, 100, 150]\n",
    "# Number of features to consider at every split\n",
    "max_features = ['auto', 'sqrt']\n",
    "# Maximum number of levels in tree\n",
    "max_depth = [10, 50]\n",
    "max_depth.append(None)\n",
    "# Minimum number of samples required to split a node\n",
    "min_samples_split = [5, 10]\n",
    "# Minimum number of samples required at each leaf node\n",
    "min_samples_leaf = [2, 4, 10]\n",
    "# Method of selecting samples for training each tree\n",
    "bootstrap = [True, False]\n",
    "\n",
    "# Create the grid\n",
    "params = {'n_estimators': n_estimators,\n",
    "               'max_features': max_features,\n",
    "               'max_depth': max_depth,\n",
    "               'min_samples_split': min_samples_split,\n",
    "               'min_samples_leaf': min_samples_leaf,\n",
    "               'bootstrap': bootstrap}"
   ]
  },
  {
   "cell_type": "code",
   "execution_count": 22,
   "id": "7ea6c907",
   "metadata": {},
   "outputs": [
    {
     "name": "stdout",
     "output_type": "stream",
     "text": [
      "Fitting 1 folds for each of 1 candidates, totalling 1 fits\n",
      "Fitting 1 folds for each of 1 candidates, totalling 1 fits\n",
      "Fitting 1 folds for each of 1 candidates, totalling 1 fits\n",
      "Fitting 1 folds for each of 1 candidates, totalling 1 fits\n",
      "Fitting 1 folds for each of 1 candidates, totalling 1 fits\n",
      "Fitting 1 folds for each of 1 candidates, totalling 1 fits\n",
      "Fitting 1 folds for each of 1 candidates, totalling 1 fits\n",
      "Fitting 1 folds for each of 1 candidates, totalling 1 fits\n",
      "Fitting 1 folds for each of 1 candidates, totalling 1 fits\n",
      "Fitting 1 folds for each of 1 candidates, totalling 1 fits\n"
     ]
    },
    {
     "name": "stderr",
     "output_type": "stream",
     "text": [
      "/cdthome/xqe353/.conda/envs/cdt_wearables/lib/python3.9/site-packages/skopt/optimizer/optimizer.py:449: UserWarning: The objective has been evaluated at this point before.\n",
      "  warnings.warn(\"The objective has been evaluated \"\n"
     ]
    },
    {
     "name": "stdout",
     "output_type": "stream",
     "text": [
      "Fitting 1 folds for each of 1 candidates, totalling 1 fits\n",
      "Fitting 1 folds for each of 1 candidates, totalling 1 fits\n"
     ]
    },
    {
     "name": "stderr",
     "output_type": "stream",
     "text": [
      "/cdthome/xqe353/.conda/envs/cdt_wearables/lib/python3.9/site-packages/skopt/optimizer/optimizer.py:449: UserWarning: The objective has been evaluated at this point before.\n",
      "  warnings.warn(\"The objective has been evaluated \"\n"
     ]
    },
    {
     "name": "stdout",
     "output_type": "stream",
     "text": [
      "Fitting 1 folds for each of 1 candidates, totalling 1 fits\n",
      "Fitting 1 folds for each of 1 candidates, totalling 1 fits\n",
      "Fitting 1 folds for each of 1 candidates, totalling 1 fits\n",
      "Fitting 1 folds for each of 1 candidates, totalling 1 fits\n",
      "Fitting 1 folds for each of 1 candidates, totalling 1 fits\n",
      "Fitting 1 folds for each of 1 candidates, totalling 1 fits\n",
      "Fitting 1 folds for each of 1 candidates, totalling 1 fits\n"
     ]
    },
    {
     "name": "stderr",
     "output_type": "stream",
     "text": [
      "/cdthome/xqe353/.conda/envs/cdt_wearables/lib/python3.9/site-packages/skopt/optimizer/optimizer.py:449: UserWarning: The objective has been evaluated at this point before.\n",
      "  warnings.warn(\"The objective has been evaluated \"\n"
     ]
    },
    {
     "name": "stdout",
     "output_type": "stream",
     "text": [
      "Fitting 1 folds for each of 1 candidates, totalling 1 fits\n",
      "Best parameter combo: OrderedDict([('bootstrap', True), ('max_depth', 50), ('max_features', 'auto'), ('min_samples_leaf', 4), ('min_samples_split', 10), ('n_estimators', 100)])\n",
      "Best validation MSE: 1.559428783232807e-01\n"
     ]
    },
    {
     "data": {
      "text/plain": [
       "BayesSearchCV(cv=PredefinedSplit(test_fold=array([-1, -1, ...,  0,  0])),\n",
       "              estimator=RandomForestRegressor(), n_iter=20, refit=False,\n",
       "              search_spaces={'bootstrap': [True, False],\n",
       "                             'max_depth': [10, 50, None],\n",
       "                             'max_features': ['auto', 'sqrt'],\n",
       "                             'min_samples_leaf': [2, 4, 10],\n",
       "                             'min_samples_split': [5, 10],\n",
       "                             'n_estimators': [10, 25, 50, 100, 150]},\n",
       "              verbose=1)"
      ]
     },
     "execution_count": 22,
     "metadata": {},
     "output_type": "execute_result"
    }
   ],
   "source": [
    "# Get the optimal parameters\n",
    "model_tune(RandomForestRegressor(), \n",
    "                 params, X_train, y_train, X_val, y_val, 20)"
   ]
  },
  {
   "cell_type": "markdown",
   "id": "ca3160a8",
   "metadata": {},
   "source": [
    "Best parameters: <br>\n",
    "**bootstrap**:True <br>\n",
    "**max_depth**: 50 <br>\n",
    "**max_features**: 'auto' <br>\n",
    "**min_samples_leaf**: 4 <br>\n",
    "**min_samples_split**: 10 <br>\n",
    "**n_estimators**: 100 <br>"
   ]
  },
  {
   "cell_type": "code",
   "execution_count": 23,
   "id": "e8dea00c",
   "metadata": {},
   "outputs": [
    {
     "data": {
      "text/plain": [
       "RandomForestRegressor(max_depth=50, min_samples_leaf=4, min_samples_split=10)"
      ]
     },
     "execution_count": 23,
     "metadata": {},
     "output_type": "execute_result"
    }
   ],
   "source": [
    "clf = RandomForestRegressor(bootstrap=True, max_depth=50, max_features='auto', min_samples_leaf = 4, min_samples_split = 10, n_estimators = 100)\n",
    "clf.fit(X_train, y_train)"
   ]
  },
  {
   "cell_type": "code",
   "execution_count": 24,
   "id": "a401b3f7",
   "metadata": {},
   "outputs": [
    {
     "name": "stdout",
     "output_type": "stream",
     "text": [
      "MSE is:  71.27675907868286\n",
      "R2 is:  0.15369787276756264\n",
      "Explained variance is: 0.15371226239647828\n"
     ]
    },
    {
     "data": {
      "text/plain": [
       "(<function sklearn.metrics._regression.r2_score(y_true, y_pred, *, sample_weight=None, multioutput='uniform_average')>,\n",
       " <function sklearn.metrics._regression.mean_squared_error(y_true, y_pred, *, sample_weight=None, multioutput='uniform_average', squared=True)>,\n",
       " <function sklearn.metrics._regression.explained_variance_score(y_true, y_pred, *, sample_weight=None, multioutput='uniform_average')>)"
      ]
     },
     "execution_count": 24,
     "metadata": {},
     "output_type": "execute_result"
    },
    {
     "data": {
      "image/png": "[encoded data removed]",
      "text/plain": [
       "<Figure size 432x288 with 1 Axes>"
      ]
     },
     "metadata": {
      "needs_background": "light"
     },
     "output_type": "display_data"
    }
   ],
   "source": [
    "y_pred = clf.predict(X_val)\n",
    "plt.plot(y_val,y_pred, \".\")\n",
    "score(y_val, y_pred)"
   ]
  },
  {
   "cell_type": "markdown",
   "id": "f08b0634",
   "metadata": {},
   "source": [
    "# Test"
   ]
  },
  {
   "cell_type": "code",
   "execution_count": 27,
   "id": "f9e64fb6",
   "metadata": {},
   "outputs": [],
   "source": [
    "X = np.vstack((X_train, X_val))\n",
    "y = np.concatenate([y_train, y_val])"
   ]
  },
  {
   "cell_type": "code",
   "execution_count": 29,
   "id": "5682291f",
   "metadata": {},
   "outputs": [
    {
     "data": {
      "text/plain": [
       "RandomForestRegressor(max_depth=50, min_samples_leaf=4, min_samples_split=10)"
      ]
     },
     "execution_count": 29,
     "metadata": {},
     "output_type": "execute_result"
    }
   ],
   "source": [
    "model = RandomForestRegressor(bootstrap=True, max_depth=50, max_features='auto', min_samples_leaf = 4, min_samples_split = 10, n_estimators = 100)\n",
    "model.fit(X, y)"
   ]
  },
  {
   "cell_type": "code",
   "execution_count": 30,
   "id": "471196eb",
   "metadata": {},
   "outputs": [
    {
     "name": "stdout",
     "output_type": "stream",
     "text": [
      "MSE is:  73.25822035640746\n",
      "R2 is:  0.14723517205952785\n",
      "Explained variance is: 0.14723563448158772\n"
     ]
    },
    {
     "data": {
      "text/plain": [
       "(<function sklearn.metrics._regression.r2_score(y_true, y_pred, *, sample_weight=None, multioutput='uniform_average')>,\n",
       " <function sklearn.metrics._regression.mean_squared_error(y_true, y_pred, *, sample_weight=None, multioutput='uniform_average', squared=True)>,\n",
       " <function sklearn.metrics._regression.explained_variance_score(y_true, y_pred, *, sample_weight=None, multioutput='uniform_average')>)"
      ]
     },
     "execution_count": 30,
     "metadata": {},
     "output_type": "execute_result"
    }
   ],
   "source": [
    "# Get the test set performance\n",
    "score(y_test, model.predict(X_test))"
   ]
  },
  {
   "cell_type": "code",
   "execution_count": null,
   "id": "9d4ad2a2",
   "metadata": {},
   "outputs": [],
   "source": []
  }
 ],
 "metadata": {
  "kernelspec": {
   "display_name": "Python 3 (ipykernel)",
   "language": "python",
   "name": "python3"
  },
  "language_info": {
   "codemirror_mode": {
    "name": "ipython",
    "version": 3
   },
   "file_extension": ".py",
   "mimetype": "text/x-python",
   "name": "python",
   "nbconvert_exporter": "python",
   "pygments_lexer": "ipython3",
   "version": "3.9.7"
  }
 },
 "nbformat": 4,
 "nbformat_minor": 5
}
